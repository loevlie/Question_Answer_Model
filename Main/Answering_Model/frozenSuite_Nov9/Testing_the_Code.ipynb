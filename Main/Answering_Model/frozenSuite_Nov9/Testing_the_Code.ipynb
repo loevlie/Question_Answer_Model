{
 "cells": [
  {
   "cell_type": "markdown",
   "id": "34153953",
   "metadata": {},
   "source": [
    "# Testing the Code"
   ]
  },
  {
   "cell_type": "code",
   "execution_count": 1,
   "id": "682b390a",
   "metadata": {},
   "outputs": [],
   "source": [
    "from Utils import get_features\n",
    "import numpy as np"
   ]
  },
  {
   "cell_type": "code",
   "execution_count": 3,
   "id": "506f9102-b90f-4314-9bdc-59809c5425fb",
   "metadata": {},
   "outputs": [
    {
     "data": {
      "text/plain": [
       "'sentence 0'"
      ]
     },
     "execution_count": 3,
     "metadata": {},
     "output_type": "execute_result"
    }
   ],
   "source": [
    "vecs_1"
   ]
  },
  {
   "cell_type": "code",
   "execution_count": 2,
   "id": "69d3e8a7",
   "metadata": {},
   "outputs": [
    {
     "name": "stdout",
     "output_type": "stream",
     "text": [
      "Lionel Andrés Messi, also known as Leo Messi, is an Argentine professional footballer who plays as a forward for Ligue 1 club Paris Saint-Germain and captains the Argentina national team. Often considered the best player in the world and widely regarded as one of the greatest players of all time, Messi has won a record six Ballon d'Or awards, a record six European Golden Shoes, and in 2020 was named to the Ballon d'Or Dream Team. Until leaving the club in 2021, he had spent his entire professional career with Barcelona, where he won a club-record 35 trophies, including ten La Liga titles, seven Copa del Rey titles and four UEFA Champions Leagues. A prolific goalscorer and creative playmaker, Messi holds the records for most goals in La Liga (474), a La Liga and European league season (50), most hat-tricks in La Liga (36) and the UEFA Champions League (8), and most assists in La Liga (192), a La Liga season (21) and the Copa América (17). He also holds the record for most international goals by a South American male (80). Messi has scored over 750 senior career goals for club and country, and has the most goals by a player for a single club.\n",
      "\n",
      "Born and raised in central Argentina, Messi relocated to Spain to join Barcelona at age 13, for whom he made his competitive debut aged 17 in October 2004. He established himself as an integral player for the club within the next three years, and in his first uninterrupted season in 2008–09 he helped Barcelona achieve the first treble in Spanish football; that year, aged 22, Messi won his first Ballon d'Or. Three successful seasons followed, with Messi winning four consecutive Ballons d'Or, making him the first player to win the award four times and in a row. During the 2011–12 season, he set the La Liga and European records for most goals scored in a single season, while establishing himself as Barcelona's all-time top scorer. The following two seasons, Messi finished second for the Ballon d'Or behind Cristiano Ronaldo (his perceived career rival), before regaining his best form during the 2014–15 campaign, becoming the all-time top scorer in La Liga and leading Barcelona to a historic second treble, after which he was awarded a fifth Ballon d'Or in 2015. Messi assumed captaincy of Barcelona in 2018, and in 2019 he won a record sixth Ballon d'Or.\n",
      "\n",
      "An Argentine international, Messi is both his country's highest appearance-maker and their all-time leading goalscorer. At youth level, he won the 2005 FIFA World Youth Championship, finishing the tournament with both the Golden Ball and Golden Shoe, and an Olympic gold medal at the 2008 Summer Olympics. His style of play as a diminutive, left-footed dribbler drew comparisons with his compatriot Diego Maradona, who described Messi as his successor. After his senior debut in August 2005, Messi became the youngest Argentine to play and score in a FIFA World Cup in 2006, and reached the final of the 2007 Copa América, where he was named young player of the tournament. As the squad's captain from August 2011, he led Argentina to three consecutive finals: the 2014 FIFA World Cup, for which he won the Golden Ball, and the 2015 and 2016 Copa América, winning the Golden Ball in the 2015 edition. After announcing his international retirement in 2016, he reversed his decision and led his country to qualification for the 2018 FIFA World Cup, a third-place finish at the 2019 Copa América, and won the 2021 Copa América, while winning the Golden Ball and Golden Boot award for the latter.\n",
      "\n",
      "Messi has endorsed sportswear company Adidas since 2006. According to France Football, he was the world's highest-paid footballer for five years out of six between 2009 and 2014, and was ranked the world's highest-paid athlete by Forbes in 2019. Messi was among Time's 100 most influential people in the world in 2011 and 2012. In February 2020, he was awarded the Laureus World Sportsman of the Year, thus becoming the first footballer and the first team sport athlete to win the award. Later that year, Messi became the second footballer (and second team-sport athlete) to surpass $1 billion in career earnings.\n",
      "\n",
      "Messi was born on 24 June 1987 in Rosario, Santa Fe, the third of four children of Jorge Messi, a steel factory manager, and his wife Celia Cuccittini, who worked in a magnet manufacturing workshop. On his father's side, he is of Italian and Spanish descent, the great-grandson of immigrants from the northcentral Adriatic Marche region of Italy and Catalonia, and on his mother's side, he has primarily Italian ancestry. Growing up in a tight-knit, football-loving family, \"Leo\" developed a passion for the sport from an early age, playing constantly with his older brothers, Rodrigo and Matías, and his cousins, Maximiliano and Emanuel Biancucchi, both of whom became professional footballers. At the age of four he joined local club Grandoli, where he was coached by his father, though his earliest influence as a player came from his maternal grandmother, Celia, who accompanied him to training and matches. He was greatly affected by her death, shortly before his eleventh birthday; since then, as a devout Catholic, he has celebrated his goals by looking up and pointing to the sky in tribute to his grandmother.\n",
      "\n",
      "\"When you saw him you would think: this kid can't play ball. He's a dwarf, he's too fragile, too small. But immediately you'd realise that he was born different, that he was a phenomenon and that he was going to be something impressive.\"\n",
      "\n",
      "– Newell's Old Boys youth coach Adrián Coria shares his first impression of the 12-year-old Messi.\n",
      "\n",
      "A lifelong supporter of Newell's Old Boys, Messi joined the Rosario club when he was six years old. During the six years he played for Newell's, he scored almost 500 goals as a member of \"The Machine of '87\", the near-unbeatable youth side named for the year of their birth, and regularly entertained crowds by performing ball tricks during half-time of the first team's home games. However, his future as a professional player was threatened when, at age 10, he was diagnosed with a growth hormone deficiency. As his father's health insurance covered only two years of growth hormone treatment, which cost at least $1,000 per month, Newell's agreed to contribute, but later reneged on their promise. He was scouted by Buenos Aires club River Plate, whose playmaker, Pablo Aimar, he idolised, but they were also unable to pay for his treatment due to Argentina's economic collapse. His goalscoring idol growing up was Ronaldo, with Messi calling him \"the best forward I've ever seen\".\n",
      "\n",
      "\n",
      "Messi enrolled at Barcelona's youth academy, La Masia, at age 13.\n",
      "As the Messi family had relatives in Catalonia, they sought to arrange a trial with Barcelona in September 2000. First team director Charly Rexach immediately wanted to sign him, but the board of directors hesitated; at the time it was highly unusual for European clubs to sign foreign players of such a young age. On 14 December, an ultimatum was issued for Barcelona to prove their commitment, and Rexach, with no other paper at hand, offered a contract on a paper napkin. In February 2001, the family relocated to Barcelona, where they moved into an apartment near the club's stadium, Camp Nou. During his first year in Spain, Messi rarely played with the Infantiles due to a transfer conflict with Newell's; as a foreigner, he could only be fielded in friendlies and the Catalan league. Without football, he struggled to integrate into the team; already reserved by nature, he was so quiet that his teammates initially believed he was mute. At home, he suffered from homesickness after his mother moved back to Rosario with his brothers and little sister, María Sol, while he stayed in Barcelona with his father.\n",
      "\n",
      "After a year at Barcelona's youth academy, La Masia, Messi was finally enrolled in the Royal Spanish Football Federation (RFEF) in February 2002. Now playing in all competitions, he befriended his teammates, among whom were Cesc Fàbregas and Gerard Piqué. After completing his growth hormone treatment aged 14, Messi became an integral part of the \"Baby Dream Team\", Barcelona's greatest-ever youth side. During his first full season (2002–03), he was top scorer with 36 goals in 30 games for the Cadetes A, who won an unprecedented treble of the league and both the Spanish and Catalan cups. The Copa Catalunya final, a 4–1 victory over Espanyol, became known in club lore as the partido de la máscara, the final of the mask. A week after suffering a broken cheekbone during a league match, Messi was allowed to start the game on the condition that he wear a plastic protector; soon hindered by the mask, he took it off and scored two goals in 10 minutes before his substitution. At the close of the season, he received an offer to join Arsenal, his first from a foreign club, but while Fàbregas and Piqué soon left for England, he chose to remain in Barcelona.\n",
      "\n",
      "\n",
      "\n",
      "\"It seemed as if he had been playing with us all his life.\"\n",
      "\n",
      "– Barcelona's then assistant coach Henk ten Cate on Messi's first-team debut.\n",
      "During the 2003–04 season, his fourth with Barcelona, Messi rapidly progressed through the club's ranks, debuting for a record five youth teams in a single campaign. After being named player of the tournament in four international pre-season competitions with the Juveniles B, he played only one official match with the team before being promoted to the Juveniles A, where he scored 18 goals in 11 league games. Messi was then one of several youth players called up to strengthen a depleted first team during the international break. French winger Ludovic Giuly explained how a teenage Leo caught the eye in a training session with Frank Rijkaard's first team: \"He destroyed us all... They were kicking him all over the place to avoid being ridiculed by this kid, he just got up and kept on playing. He would dribble past four players and score a goal. Even the team's starting centre-backs were nervous. He was an alien.\"\n",
      "\n",
      "At 16 years, four months, and 23 days old, Messi made his first team debut when he came on in the 75th minute during a friendly against José Mourinho's Porto on 16 November 2003. His performance, creating two chances and a shot on goal, impressed the technical staff, and he subsequently began training daily with the club's reserve side, Barcelona B, as well as weekly with the first team. After his first training session with the senior squad, Barça's new star player, Ronaldinho, told his teammates that he believed the 16-year-old would become an even better player than himself. Ronaldinho soon befriended Messi, whom he called \"little brother\", which greatly eased his transition into the first team.\n",
      "\n",
      "\n",
      "Messi playing against Málaga in 2005\n",
      "To gain further match experience, Messi joined Barcelona C in addition to the Juveniles A, playing his first game for the third team on 29 November. He helped save them from the relegation zone of the Tercera División, scoring five goals in ten games, including a hat-trick in eight minutes during a Copa del Rey match while man-marked by Sevilla's Sergio Ramos. His progress was reflected in his first professional contract, signed on 4 February 2004, which lasted until 2012 and contained an initial buyout clause of €30 million. A month later, on 6 March, he made his debut for Barcelona B in the Segunda División B, and his buyout clause automatically increased to €80 million. He played five games with the B team that season but did not score. Physically he was weaker than his opponents, who were often much older and taller, and in training he worked on increasing his muscle mass and overall strength in order to be able to shake off defenders. Towards the end of the season, he returned to both youth teams, helping the Juveniles B win the league. He finished the campaign having scored for four of his five teams with a total of 36 goals in all official competitions.\n",
      "\n",
      "During the 2004–05 season, Messi was a guaranteed starter for the B team, playing 17 games throughout the campaign and scoring on six occasions. Since his debut the previous November, he had not been called up to the first team again, but in October 2004, the senior players asked manager Frank Rijkaard to promote him. Since Ronaldinho already played on the left wing, Rijkaard moved Messi from his usual position onto the right flank (though initially against the player's wishes), allowing him to cut into the centre of the pitch and shoot with his dominant left foot. Messi made his league debut during the next match on 16 October, against Espanyol, coming on in the 82nd minute. At 17 years, three months, and 22 days old, he was at the time the youngest player to represent Barcelona in an official competition. As a substitute player, he played 77 minutes in nine matches for the first team that season, including his debut in the UEFA Champions League against Shakhtar Donetsk. He scored his first senior goal on 1 May 2005, against Albacete, from an assist by Ronaldinho, becoming – at that time – the youngest-ever scorer for the club. Barcelona, in their second season under Rijkaard, won the league for the first time in six years.\n",
      "\n",
      "2005–2008: Becoming a starting eleven player\n",
      "\"In my entire life I have never seen a player of such quality and personality at such a young age, particularly wearing the 'heavy' shirt of one of the world's great clubs.\"\n",
      "\n",
      "– Fabio Capello praises the 18-year-old Messi following the Joan Gamper trophy in August 2005.\n",
      "On 24 June, his 18th birthday, Messi signed his first contract as a senior team player. It made him a Barcelona player until 2010, two years less than his previous contract, but his buyout clause increased to €150 million. His breakthrough came two months later, on 24 August, during the Joan Gamper Trophy, Barcelona's pre-season competition. A starter for the first time, he gave a well-received performance against Fabio Capello's Juventus, receiving an ovation from the Camp Nou. While Capello requested to loan Messi, a bid to buy him came from Inter Milan, who were willing to pay his €150 million buyout clause and triple his wages. According to then-president Joan Laporta, it was the only time the club faced a real risk of losing Messi, but he ultimately decided to stay. On 16 September, his contract was updated for the second time in three months and extended to 2014.\n",
      "\n",
      "\n",
      "Messi during a training session with Barcelona in 2006\n",
      "Due to issues regarding his legal status in the Royal Spanish Football Federation, Messi missed the start of La Liga, but on 26 September, he acquired Spanish citizenship and became eligible to play. Wearing the number 19 shirt, he gradually established himself as the first-choice right winger, forming an attacking trio with Ronaldinho and striker Samuel Eto'o. He was in the starting line-up in major matches like his first Clásico against rivals Real Madrid on 19 November, as well as Barcelona's away victory over Chelsea in the last 16 round of the Champions League, which came on back of an intense period of rivalry between the clubs leading a resentful Messi to state, \"We would rather play Arsenal, Manchester United or anyone else than be on the pitch with Chelsea.\" After he had scored 8 goals in 25 games, including his first in the Champions League, in a 5–0 win over Panathinaikos on 2 November 2005, his season ended prematurely during the return leg against Chelsea on 7 March 2006, when he suffered a torn hamstring. Messi worked to regain fitness in time for the Champions League final, but on 17 May, the day of the final, he was eventually ruled out. He was so disappointed that he did not celebrate his team's victory over Arsenal in Paris, something he later came to regret.\n",
      "\n",
      "While Barcelona began a gradual decline, the 19-year-old Messi established himself as one of the best players in the world during the 2006–07 campaign. Already an idol to the culés, the club's supporters, he scored 17 goals in 36 games across all competitions. However, he continued to be plagued by major injuries; a metatarsal fracture sustained on 12 November 2006 kept him out of action for three months. He recovered in time for the last 16 round of the Champions League against Liverpool, but was effectively marked out of the game; Barcelona, the reigning champions, were out of the competition. In the league, his goal contribution increased towards the end of the season; 11 of his 14 goals came from the last 13 games. On 10 March 2007, he scored his first hat-trick in a Clásico, the first player to do so in 12 years, equalising after each goal by Real Madrid to end the match in a 3–3 draw in injury time. His growing importance to the club was reflected in a new contract, signed that month, which greatly increased his wages.\n",
      "\n",
      "\n",
      "Messi making his Maradona-esque run against Getafe in 2007\n",
      "Already frequently compared to compatriot Diego Maradona, Messi proved their similarity when he nearly replicated Maradona's two most famous goals in the span of seven weeks. During a Copa del Rey semi-final against Getafe on 18 April, he scored a goal remarkably similar to Maradona's second goal in the quarter-finals of the 1986 FIFA World Cup, known as the Goal of the Century. Messi collected the ball on the right side near the halfway line, ran 60 metres (66 yd), and beat five defenders before scoring with an angled finish, just as Maradona had done. A league match against Espanyol on 9 June saw him score by launching himself at the ball and guiding it past the goalkeeper with his hand in similar fashion to Maradona's Hand of God goal in the same World Cup match. As Messi continued his individual rise, Barcelona faltered; the team failed to reach the Copa del Rey final after Messi was rested during the second leg against Getafe and lost the league to Real Madrid on head-to-head results.\n",
      "\n",
      "After Ronaldinho lost form, Messi became Barça's new star player at only 20 years old, receiving the nickname \"Messiah\" from the Spanish media. His efforts in 2007 also earned him award recognition; journalists voted him the third-best player of the year for the 2007 Ballon d'Or, behind Kaká and runner-up Cristiano Ronaldo, while international managers and national team captains voted him second for the FIFA World Player of the Year award, again behind Kaká. Although he managed to score 16 goals during the 2007–08 campaign, the second half of his season was again marred by injuries after he suffered a torn hamstring on 15 December. He returned to score twice in their away victory against Celtic in the last 16 round of the Champions League, becoming the competition's top scorer at that point with six goals, but reinjured himself during the return leg on 4 March 2008. Rijkaard had fielded him despite warning from the medical staff, leading captain Carles Puyol to criticise the Spanish media for pressuring Messi to play every match. Barcelona finished the season without trophies, eliminated in the Champions League semi-finals by the eventual champions, Manchester United, and placed third in the league.\n"
     ]
    }
   ],
   "source": [
    "vecs_1,vecs_2,vecs_3 = get_features(text='messi.txt',question='What disease was Messi diagnosed with?',num_rel_sentences=3)"
   ]
  },
  {
   "cell_type": "code",
   "execution_count": 4,
   "id": "82afd6bf",
   "metadata": {},
   "outputs": [
    {
     "data": {
      "text/plain": [
       "[his growth hormone treatment,\n",
       " Messi,\n",
       " Barcelona's greatest-ever youth side,\n",
       " Baby Dream Team,\n",
       " an integral part]"
      ]
     },
     "execution_count": 4,
     "metadata": {},
     "output_type": "execute_result"
    }
   ],
   "source": [
    "list(vecs_1.keys())"
   ]
  },
  {
   "cell_type": "code",
   "execution_count": 7,
   "id": "c6d88880",
   "metadata": {},
   "outputs": [
    {
     "data": {
      "text/plain": [
       "array([0.60092825, 0.17240223, 1.        , 0.        , 3.        ,\n",
       "       0.        , 4.        ])"
      ]
     },
     "execution_count": 7,
     "metadata": {},
     "output_type": "execute_result"
    }
   ],
   "source": [
    "list(vecs_1.values())[0]"
   ]
  },
  {
   "cell_type": "code",
   "execution_count": 5,
   "id": "ff8124f3",
   "metadata": {},
   "outputs": [
    {
     "data": {
      "text/plain": [
       "defaultdict(None,\n",
       "            {his growth hormone treatment: array([0.60092825, 0.17240223, 1.        , 0.        , 3.        ,\n",
       "                    0.        , 4.        ]),\n",
       "             Messi: array([-0.03365253,  0.28499755,  1.        ,  1.        ,  1.        ,\n",
       "                     0.        ,  1.        ]),\n",
       "             Barcelona's greatest-ever youth side: array([0.3216458 , 0.28499755, 1.        , 0.        , 4.        ,\n",
       "                    0.        , 7.        ]),\n",
       "             Baby Dream Team: array([0.25928894, 0.28499755, 1.        , 0.        , 3.        ,\n",
       "                    0.        , 3.        ]),\n",
       "             an integral part: array([0.28065234, 0.28499755, 1.        , 0.        , 1.        ,\n",
       "                    0.        , 3.        ])})"
      ]
     },
     "execution_count": 5,
     "metadata": {},
     "output_type": "execute_result"
    }
   ],
   "source": [
    "vecs_1"
   ]
  },
  {
   "cell_type": "markdown",
   "id": "175ebafa",
   "metadata": {},
   "source": [
    "# Using the Dataset"
   ]
  },
  {
   "cell_type": "code",
   "execution_count": 8,
   "id": "297bc964",
   "metadata": {},
   "outputs": [],
   "source": [
    "import numpy as np \n",
    "import pandas as pd\n",
    "import matplotlib.pyplot as plt\n",
    "import spacy"
   ]
  },
  {
   "cell_type": "markdown",
   "id": "1c4199e6",
   "metadata": {},
   "source": [
    "Getting the Data/Cleaning:"
   ]
  },
  {
   "cell_type": "code",
   "execution_count": 25,
   "id": "dbbb6265",
   "metadata": {},
   "outputs": [],
   "source": [
    "Answer_File = '../../Data/Question_Answer_Dataset_v1.2/S08/question_answer_pairs.txt'"
   ]
  },
  {
   "cell_type": "code",
   "execution_count": 26,
   "id": "08d5991e",
   "metadata": {},
   "outputs": [],
   "source": [
    "with open(Answer_File,'r',encoding=\"ISO-8859-1\") as f:\n",
    "    Questions = f.read().split('\\n')"
   ]
  },
  {
   "cell_type": "code",
   "execution_count": 27,
   "id": "6f10a71e",
   "metadata": {},
   "outputs": [],
   "source": [
    "Data = {key:[] for key in Questions[0].split('\\t')}"
   ]
  },
  {
   "cell_type": "code",
   "execution_count": 28,
   "id": "0f5e45d9",
   "metadata": {},
   "outputs": [],
   "source": [
    "keys = list(Data.keys())"
   ]
  },
  {
   "cell_type": "code",
   "execution_count": 29,
   "id": "0a85ebd8",
   "metadata": {},
   "outputs": [],
   "source": [
    "for row in range(1,len(Questions)):\n",
    "    data_point = Questions[row].split('\\t')\n",
    "    if len(data_point)>1:\n",
    "        for i in range(len(data_point)):\n",
    "            Data[keys[i]].append(data_point[i])"
   ]
  },
  {
   "cell_type": "code",
   "execution_count": 30,
   "id": "9be061e2",
   "metadata": {},
   "outputs": [
    {
     "ename": "ValueError",
     "evalue": "All arrays must be of the same length",
     "output_type": "error",
     "traceback": [
      "\u001b[0;31m---------------------------------------------------------------------------\u001b[0m",
      "\u001b[0;31mValueError\u001b[0m                                Traceback (most recent call last)",
      "\u001b[0;32m/var/folders/17/t2prrfnd5c59_l2jy04lgrwm0000gn/T/ipykernel_47893/167652019.py\u001b[0m in \u001b[0;36m<module>\u001b[0;34m\u001b[0m\n\u001b[0;32m----> 1\u001b[0;31m \u001b[0mdf\u001b[0m \u001b[0;34m=\u001b[0m \u001b[0mpd\u001b[0m\u001b[0;34m.\u001b[0m\u001b[0mDataFrame\u001b[0m\u001b[0;34m(\u001b[0m\u001b[0mData\u001b[0m\u001b[0;34m)\u001b[0m\u001b[0;34m\u001b[0m\u001b[0;34m\u001b[0m\u001b[0m\n\u001b[0m",
      "\u001b[0;32m~/miniforge3/envs/NLP/lib/python3.9/site-packages/pandas/core/frame.py\u001b[0m in \u001b[0;36m__init__\u001b[0;34m(self, data, index, columns, dtype, copy)\u001b[0m\n\u001b[1;32m    612\u001b[0m         \u001b[0;32melif\u001b[0m \u001b[0misinstance\u001b[0m\u001b[0;34m(\u001b[0m\u001b[0mdata\u001b[0m\u001b[0;34m,\u001b[0m \u001b[0mdict\u001b[0m\u001b[0;34m)\u001b[0m\u001b[0;34m:\u001b[0m\u001b[0;34m\u001b[0m\u001b[0;34m\u001b[0m\u001b[0m\n\u001b[1;32m    613\u001b[0m             \u001b[0;31m# GH#38939 de facto copy defaults to False only in non-dict cases\u001b[0m\u001b[0;34m\u001b[0m\u001b[0;34m\u001b[0m\u001b[0m\n\u001b[0;32m--> 614\u001b[0;31m             \u001b[0mmgr\u001b[0m \u001b[0;34m=\u001b[0m \u001b[0mdict_to_mgr\u001b[0m\u001b[0;34m(\u001b[0m\u001b[0mdata\u001b[0m\u001b[0;34m,\u001b[0m \u001b[0mindex\u001b[0m\u001b[0;34m,\u001b[0m \u001b[0mcolumns\u001b[0m\u001b[0;34m,\u001b[0m \u001b[0mdtype\u001b[0m\u001b[0;34m=\u001b[0m\u001b[0mdtype\u001b[0m\u001b[0;34m,\u001b[0m \u001b[0mcopy\u001b[0m\u001b[0;34m=\u001b[0m\u001b[0mcopy\u001b[0m\u001b[0;34m,\u001b[0m \u001b[0mtyp\u001b[0m\u001b[0;34m=\u001b[0m\u001b[0mmanager\u001b[0m\u001b[0;34m)\u001b[0m\u001b[0;34m\u001b[0m\u001b[0;34m\u001b[0m\u001b[0m\n\u001b[0m\u001b[1;32m    615\u001b[0m         \u001b[0;32melif\u001b[0m \u001b[0misinstance\u001b[0m\u001b[0;34m(\u001b[0m\u001b[0mdata\u001b[0m\u001b[0;34m,\u001b[0m \u001b[0mma\u001b[0m\u001b[0;34m.\u001b[0m\u001b[0mMaskedArray\u001b[0m\u001b[0;34m)\u001b[0m\u001b[0;34m:\u001b[0m\u001b[0;34m\u001b[0m\u001b[0;34m\u001b[0m\u001b[0m\n\u001b[1;32m    616\u001b[0m             \u001b[0;32mimport\u001b[0m \u001b[0mnumpy\u001b[0m\u001b[0;34m.\u001b[0m\u001b[0mma\u001b[0m\u001b[0;34m.\u001b[0m\u001b[0mmrecords\u001b[0m \u001b[0;32mas\u001b[0m \u001b[0mmrecords\u001b[0m\u001b[0;34m\u001b[0m\u001b[0;34m\u001b[0m\u001b[0m\n",
      "\u001b[0;32m~/miniforge3/envs/NLP/lib/python3.9/site-packages/pandas/core/internals/construction.py\u001b[0m in \u001b[0;36mdict_to_mgr\u001b[0;34m(data, index, columns, dtype, typ, copy)\u001b[0m\n\u001b[1;32m    462\u001b[0m         \u001b[0;31m# TODO: can we get rid of the dt64tz special case above?\u001b[0m\u001b[0;34m\u001b[0m\u001b[0;34m\u001b[0m\u001b[0m\n\u001b[1;32m    463\u001b[0m \u001b[0;34m\u001b[0m\u001b[0m\n\u001b[0;32m--> 464\u001b[0;31m     return arrays_to_mgr(\n\u001b[0m\u001b[1;32m    465\u001b[0m         \u001b[0marrays\u001b[0m\u001b[0;34m,\u001b[0m \u001b[0mdata_names\u001b[0m\u001b[0;34m,\u001b[0m \u001b[0mindex\u001b[0m\u001b[0;34m,\u001b[0m \u001b[0mcolumns\u001b[0m\u001b[0;34m,\u001b[0m \u001b[0mdtype\u001b[0m\u001b[0;34m=\u001b[0m\u001b[0mdtype\u001b[0m\u001b[0;34m,\u001b[0m \u001b[0mtyp\u001b[0m\u001b[0;34m=\u001b[0m\u001b[0mtyp\u001b[0m\u001b[0;34m,\u001b[0m \u001b[0mconsolidate\u001b[0m\u001b[0;34m=\u001b[0m\u001b[0mcopy\u001b[0m\u001b[0;34m\u001b[0m\u001b[0;34m\u001b[0m\u001b[0m\n\u001b[1;32m    466\u001b[0m     )\n",
      "\u001b[0;32m~/miniforge3/envs/NLP/lib/python3.9/site-packages/pandas/core/internals/construction.py\u001b[0m in \u001b[0;36marrays_to_mgr\u001b[0;34m(arrays, arr_names, index, columns, dtype, verify_integrity, typ, consolidate)\u001b[0m\n\u001b[1;32m    117\u001b[0m         \u001b[0;31m# figure out the index, if necessary\u001b[0m\u001b[0;34m\u001b[0m\u001b[0;34m\u001b[0m\u001b[0m\n\u001b[1;32m    118\u001b[0m         \u001b[0;32mif\u001b[0m \u001b[0mindex\u001b[0m \u001b[0;32mis\u001b[0m \u001b[0;32mNone\u001b[0m\u001b[0;34m:\u001b[0m\u001b[0;34m\u001b[0m\u001b[0;34m\u001b[0m\u001b[0m\n\u001b[0;32m--> 119\u001b[0;31m             \u001b[0mindex\u001b[0m \u001b[0;34m=\u001b[0m \u001b[0m_extract_index\u001b[0m\u001b[0;34m(\u001b[0m\u001b[0marrays\u001b[0m\u001b[0;34m)\u001b[0m\u001b[0;34m\u001b[0m\u001b[0;34m\u001b[0m\u001b[0m\n\u001b[0m\u001b[1;32m    120\u001b[0m         \u001b[0;32melse\u001b[0m\u001b[0;34m:\u001b[0m\u001b[0;34m\u001b[0m\u001b[0;34m\u001b[0m\u001b[0m\n\u001b[1;32m    121\u001b[0m             \u001b[0mindex\u001b[0m \u001b[0;34m=\u001b[0m \u001b[0mensure_index\u001b[0m\u001b[0;34m(\u001b[0m\u001b[0mindex\u001b[0m\u001b[0;34m)\u001b[0m\u001b[0;34m\u001b[0m\u001b[0;34m\u001b[0m\u001b[0m\n",
      "\u001b[0;32m~/miniforge3/envs/NLP/lib/python3.9/site-packages/pandas/core/internals/construction.py\u001b[0m in \u001b[0;36m_extract_index\u001b[0;34m(data)\u001b[0m\n\u001b[1;32m    633\u001b[0m             \u001b[0mlengths\u001b[0m \u001b[0;34m=\u001b[0m \u001b[0mlist\u001b[0m\u001b[0;34m(\u001b[0m\u001b[0mset\u001b[0m\u001b[0;34m(\u001b[0m\u001b[0mraw_lengths\u001b[0m\u001b[0;34m)\u001b[0m\u001b[0;34m)\u001b[0m\u001b[0;34m\u001b[0m\u001b[0;34m\u001b[0m\u001b[0m\n\u001b[1;32m    634\u001b[0m             \u001b[0;32mif\u001b[0m \u001b[0mlen\u001b[0m\u001b[0;34m(\u001b[0m\u001b[0mlengths\u001b[0m\u001b[0;34m)\u001b[0m \u001b[0;34m>\u001b[0m \u001b[0;36m1\u001b[0m\u001b[0;34m:\u001b[0m\u001b[0;34m\u001b[0m\u001b[0;34m\u001b[0m\u001b[0m\n\u001b[0;32m--> 635\u001b[0;31m                 \u001b[0;32mraise\u001b[0m \u001b[0mValueError\u001b[0m\u001b[0;34m(\u001b[0m\u001b[0;34m\"All arrays must be of the same length\"\u001b[0m\u001b[0;34m)\u001b[0m\u001b[0;34m\u001b[0m\u001b[0;34m\u001b[0m\u001b[0m\n\u001b[0m\u001b[1;32m    636\u001b[0m \u001b[0;34m\u001b[0m\u001b[0m\n\u001b[1;32m    637\u001b[0m             \u001b[0;32mif\u001b[0m \u001b[0mhave_dicts\u001b[0m\u001b[0;34m:\u001b[0m\u001b[0;34m\u001b[0m\u001b[0;34m\u001b[0m\u001b[0m\n",
      "\u001b[0;31mValueError\u001b[0m: All arrays must be of the same length"
     ]
    }
   ],
   "source": [
    "df = pd.DataFrame(Data)"
   ]
  },
  {
   "cell_type": "code",
   "execution_count": 31,
   "id": "71cdeb56",
   "metadata": {},
   "outputs": [
    {
     "data": {
      "text/html": [
       "<div>\n",
       "<style scoped>\n",
       "    .dataframe tbody tr th:only-of-type {\n",
       "        vertical-align: middle;\n",
       "    }\n",
       "\n",
       "    .dataframe tbody tr th {\n",
       "        vertical-align: top;\n",
       "    }\n",
       "\n",
       "    .dataframe thead th {\n",
       "        text-align: right;\n",
       "    }\n",
       "</style>\n",
       "<table border=\"1\" class=\"dataframe\">\n",
       "  <thead>\n",
       "    <tr style=\"text-align: right;\">\n",
       "      <th></th>\n",
       "      <th>ArticleTitle</th>\n",
       "      <th>Question</th>\n",
       "      <th>Answer</th>\n",
       "      <th>DifficultyFromQuestioner</th>\n",
       "      <th>DifficultyFromAnswerer</th>\n",
       "      <th>ArticleFile</th>\n",
       "    </tr>\n",
       "  </thead>\n",
       "  <tbody>\n",
       "    <tr>\n",
       "      <th>0</th>\n",
       "      <td>Alessandro_Volta</td>\n",
       "      <td>Was Volta an Italian physicist?</td>\n",
       "      <td>yes</td>\n",
       "      <td>easy</td>\n",
       "      <td>easy</td>\n",
       "      <td>data/set4/a10</td>\n",
       "    </tr>\n",
       "    <tr>\n",
       "      <th>1</th>\n",
       "      <td>Alessandro_Volta</td>\n",
       "      <td>Was Volta an Italian physicist?</td>\n",
       "      <td>yes</td>\n",
       "      <td>easy</td>\n",
       "      <td>easy</td>\n",
       "      <td>data/set4/a10</td>\n",
       "    </tr>\n",
       "    <tr>\n",
       "      <th>2</th>\n",
       "      <td>Alessandro_Volta</td>\n",
       "      <td>Is Volta buried in the city of Pittsburgh?</td>\n",
       "      <td>no</td>\n",
       "      <td>easy</td>\n",
       "      <td>easy</td>\n",
       "      <td>data/set4/a10</td>\n",
       "    </tr>\n",
       "    <tr>\n",
       "      <th>3</th>\n",
       "      <td>Alessandro_Volta</td>\n",
       "      <td>Is Volta buried in the city of Pittsburgh?</td>\n",
       "      <td>no</td>\n",
       "      <td>easy</td>\n",
       "      <td>easy</td>\n",
       "      <td>data/set4/a10</td>\n",
       "    </tr>\n",
       "    <tr>\n",
       "      <th>4</th>\n",
       "      <td>Alessandro_Volta</td>\n",
       "      <td>Did Volta have a passion for the study of elec...</td>\n",
       "      <td>yes</td>\n",
       "      <td>easy</td>\n",
       "      <td>medium</td>\n",
       "      <td>data/set4/a10</td>\n",
       "    </tr>\n",
       "    <tr>\n",
       "      <th>...</th>\n",
       "      <td>...</td>\n",
       "      <td>...</td>\n",
       "      <td>...</td>\n",
       "      <td>...</td>\n",
       "      <td>...</td>\n",
       "      <td>...</td>\n",
       "    </tr>\n",
       "    <tr>\n",
       "      <th>820</th>\n",
       "      <td>Xylophone</td>\n",
       "      <td>What is the earliest historical reference in E...</td>\n",
       "      <td>Arnold Schlick's Spiegel der Orgelmacher und O...</td>\n",
       "      <td>medium</td>\n",
       "      <td>medium</td>\n",
       "      <td>data/set2/a8</td>\n",
       "    </tr>\n",
       "    <tr>\n",
       "      <th>821</th>\n",
       "      <td>Xylophone</td>\n",
       "      <td>How are western-style xylophones characterised?</td>\n",
       "      <td>by a bright, sharp tone and high register</td>\n",
       "      <td>medium</td>\n",
       "      <td>medium</td>\n",
       "      <td>data/set2/a8</td>\n",
       "    </tr>\n",
       "    <tr>\n",
       "      <th>822</th>\n",
       "      <td>Xylophone</td>\n",
       "      <td>Can a xylophone be 3 octaves?</td>\n",
       "      <td>yes</td>\n",
       "      <td>hard</td>\n",
       "      <td>hard</td>\n",
       "      <td>data/set2/a8</td>\n",
       "    </tr>\n",
       "    <tr>\n",
       "      <th>823</th>\n",
       "      <td>Xylophone</td>\n",
       "      <td>Can a short bar follow a long bar?</td>\n",
       "      <td>no</td>\n",
       "      <td>hard</td>\n",
       "      <td>hard</td>\n",
       "      <td>data/set2/a8</td>\n",
       "    </tr>\n",
       "    <tr>\n",
       "      <th>824</th>\n",
       "      <td>Xylophone</td>\n",
       "      <td>Did vibraphones exist in 1930?</td>\n",
       "      <td>yes</td>\n",
       "      <td>hard</td>\n",
       "      <td>hard</td>\n",
       "      <td>data/set2/a8</td>\n",
       "    </tr>\n",
       "  </tbody>\n",
       "</table>\n",
       "<p>825 rows × 6 columns</p>\n",
       "</div>"
      ],
      "text/plain": [
       "         ArticleTitle                                           Question  \\\n",
       "0    Alessandro_Volta                    Was Volta an Italian physicist?   \n",
       "1    Alessandro_Volta                    Was Volta an Italian physicist?   \n",
       "2    Alessandro_Volta         Is Volta buried in the city of Pittsburgh?   \n",
       "3    Alessandro_Volta         Is Volta buried in the city of Pittsburgh?   \n",
       "4    Alessandro_Volta  Did Volta have a passion for the study of elec...   \n",
       "..                ...                                                ...   \n",
       "820         Xylophone  What is the earliest historical reference in E...   \n",
       "821         Xylophone    How are western-style xylophones characterised?   \n",
       "822         Xylophone                      Can a xylophone be 3 octaves?   \n",
       "823         Xylophone                 Can a short bar follow a long bar?   \n",
       "824         Xylophone                     Did vibraphones exist in 1930?   \n",
       "\n",
       "                                                Answer  \\\n",
       "0                                                  yes   \n",
       "1                                                  yes   \n",
       "2                                                   no   \n",
       "3                                                   no   \n",
       "4                                                  yes   \n",
       "..                                                 ...   \n",
       "820  Arnold Schlick's Spiegel der Orgelmacher und O...   \n",
       "821          by a bright, sharp tone and high register   \n",
       "822                                                yes   \n",
       "823                                                 no   \n",
       "824                                                yes   \n",
       "\n",
       "    DifficultyFromQuestioner DifficultyFromAnswerer    ArticleFile  \n",
       "0                       easy                   easy  data/set4/a10  \n",
       "1                       easy                   easy  data/set4/a10  \n",
       "2                       easy                   easy  data/set4/a10  \n",
       "3                       easy                   easy  data/set4/a10  \n",
       "4                       easy                 medium  data/set4/a10  \n",
       "..                       ...                    ...            ...  \n",
       "820                   medium                 medium   data/set2/a8  \n",
       "821                   medium                 medium   data/set2/a8  \n",
       "822                     hard                   hard   data/set2/a8  \n",
       "823                     hard                   hard   data/set2/a8  \n",
       "824                     hard                   hard   data/set2/a8  \n",
       "\n",
       "[825 rows x 6 columns]"
      ]
     },
     "execution_count": 31,
     "metadata": {},
     "output_type": "execute_result"
    }
   ],
   "source": [
    "df"
   ]
  },
  {
   "cell_type": "code",
   "execution_count": 16,
   "id": "0189d12f",
   "metadata": {},
   "outputs": [],
   "source": [
    "from collections import defaultdict\n",
    "\n",
    "Articles = defaultdict(list)\n",
    "\n",
    "# for i,path in enumerate(df['ArticleFile']):\n",
    "#     if df['ArticleTitle'][i] not in list(Articles.keys()):\n",
    "#         Articles[df['ArticleTitle'][i]] = Get_Tokens(path)"
   ]
  },
  {
   "cell_type": "markdown",
   "id": "52dbdfd7",
   "metadata": {},
   "source": [
    "## Creating a Custom Dataset for our Articles"
   ]
  },
  {
   "cell_type": "code",
   "execution_count": null,
   "id": "78754a13",
   "metadata": {},
   "outputs": [],
   "source": [
    "def read_file(path):\n",
    "    with open('../Data/Question_Answer_Dataset_v1.2/'+'S10/'+file_path+'.txt','r') as g:\n",
    "        text = g.read()\n",
    "    return Article\n",
    "\n",
    "class CustomImageDataset(Dataset):\n",
    "    def __init__(self, article_file_names,questions,answers):\n",
    "        \n",
    "#         Articles = defaultdict(list)\n",
    "#         for i, path in enumerate(article_file_names):\n",
    "#             if article_file_names[i] not in list(Articles.keys()):\n",
    "#                 Articles[article_file_names[i]] = read_file()\n",
    "        for i,Q in enumerate(questions):\n",
    "            if answers[i] in ['Yes','No']:\n",
    "                continue\n",
    "            \n",
    "                \n",
    "                \n",
    "        self.\n",
    "        self.img_labels = pd.read_csv(annotations_file)\n",
    "        self.img_dir = img_dir\n",
    "        self.transform = transform\n",
    "        self.target_transform = target_transform\n",
    "\n",
    "    def __len__(self):\n",
    "        return len(self.img_labels)\n",
    "\n",
    "    def __getitem__(self, idx):\n",
    "        img_path = os.path.join(self.img_dir, self.img_labels.iloc[idx, 0])\n",
    "        image = read_image(img_path)\n",
    "        label = self.img_labels.iloc[idx, 1]\n",
    "        if self.transform:\n",
    "            image = self.transform(image)\n",
    "        if self.target_transform:\n",
    "            label = self.target_transform(label)\n",
    "        return image, label"
   ]
  }
 ],
 "metadata": {
  "kernelspec": {
   "display_name": "Python 3",
   "language": "python",
   "name": "python3"
  },
  "language_info": {
   "codemirror_mode": {
    "name": "ipython",
    "version": 3
   },
   "file_extension": ".py",
   "mimetype": "text/x-python",
   "name": "python",
   "nbconvert_exporter": "python",
   "pygments_lexer": "ipython3",
   "version": "3.8.8"
  }
 },
 "nbformat": 4,
 "nbformat_minor": 5
}
