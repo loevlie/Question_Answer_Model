{
 "cells": [
  {
   "cell_type": "markdown",
   "id": "34153953",
   "metadata": {},
   "source": [
    "# Testing the Code"
   ]
  },
  {
   "cell_type": "code",
   "execution_count": 1,
   "id": "682b390a",
   "metadata": {},
   "outputs": [],
   "source": [
    "from Utils import get_features\n",
    "import numpy as np"
   ]
  },
  {
   "cell_type": "code",
   "execution_count": 2,
   "id": "69d3e8a7",
   "metadata": {},
   "outputs": [],
   "source": [
    "vecs_1,vecs_2,vecs_3 = get_features(text='messi.txt',question='What disease was Messi diagnosed with?',num_rel_sentences=3)"
   ]
  },
  {
   "cell_type": "code",
   "execution_count": 4,
   "id": "82afd6bf",
   "metadata": {},
   "outputs": [
    {
     "data": {
      "text/plain": [
       "[his growth hormone treatment,\n",
       " Messi,\n",
       " Barcelona's greatest-ever youth side,\n",
       " Baby Dream Team,\n",
       " an integral part]"
      ]
     },
     "execution_count": 4,
     "metadata": {},
     "output_type": "execute_result"
    }
   ],
   "source": [
    "list(vecs_1.keys())"
   ]
  },
  {
   "cell_type": "code",
   "execution_count": 7,
   "id": "c6d88880",
   "metadata": {},
   "outputs": [
    {
     "data": {
      "text/plain": [
       "array([0.60092825, 0.17240223, 1.        , 0.        , 3.        ,\n",
       "       0.        , 4.        ])"
      ]
     },
     "execution_count": 7,
     "metadata": {},
     "output_type": "execute_result"
    }
   ],
   "source": [
    "list(vecs_1.values())[0]"
   ]
  },
  {
   "cell_type": "code",
   "execution_count": 5,
   "id": "ff8124f3",
   "metadata": {},
   "outputs": [
    {
     "data": {
      "text/plain": [
       "defaultdict(None,\n",
       "            {his growth hormone treatment: array([0.60092825, 0.17240223, 1.        , 0.        , 3.        ,\n",
       "                    0.        , 4.        ]),\n",
       "             Messi: array([-0.03365253,  0.28499755,  1.        ,  1.        ,  1.        ,\n",
       "                     0.        ,  1.        ]),\n",
       "             Barcelona's greatest-ever youth side: array([0.3216458 , 0.28499755, 1.        , 0.        , 4.        ,\n",
       "                    0.        , 7.        ]),\n",
       "             Baby Dream Team: array([0.25928894, 0.28499755, 1.        , 0.        , 3.        ,\n",
       "                    0.        , 3.        ]),\n",
       "             an integral part: array([0.28065234, 0.28499755, 1.        , 0.        , 1.        ,\n",
       "                    0.        , 3.        ])})"
      ]
     },
     "execution_count": 5,
     "metadata": {},
     "output_type": "execute_result"
    }
   ],
   "source": [
    "vecs_1"
   ]
  },
  {
   "cell_type": "markdown",
   "id": "175ebafa",
   "metadata": {},
   "source": [
    "# Using the Dataset"
   ]
  },
  {
   "cell_type": "code",
   "execution_count": 8,
   "id": "297bc964",
   "metadata": {},
   "outputs": [],
   "source": [
    "import numpy as np \n",
    "import pandas as pd\n",
    "import matplotlib.pyplot as plt\n",
    "import spacy"
   ]
  },
  {
   "cell_type": "markdown",
   "id": "1c4199e6",
   "metadata": {},
   "source": [
    "Getting the Data/Cleaning:"
   ]
  },
  {
   "cell_type": "code",
   "execution_count": 25,
   "id": "dbbb6265",
   "metadata": {},
   "outputs": [],
   "source": [
    "Answer_File = '../../Data/Question_Answer_Dataset_v1.2/S08/question_answer_pairs.txt'"
   ]
  },
  {
   "cell_type": "code",
   "execution_count": 26,
   "id": "08d5991e",
   "metadata": {},
   "outputs": [],
   "source": [
    "with open(Answer_File,'r',encoding=\"ISO-8859-1\") as f:\n",
    "    Questions = f.read().split('\\n')"
   ]
  },
  {
   "cell_type": "code",
   "execution_count": 27,
   "id": "6f10a71e",
   "metadata": {},
   "outputs": [],
   "source": [
    "Data = {key:[] for key in Questions[0].split('\\t')}"
   ]
  },
  {
   "cell_type": "code",
   "execution_count": 28,
   "id": "0f5e45d9",
   "metadata": {},
   "outputs": [],
   "source": [
    "keys = list(Data.keys())"
   ]
  },
  {
   "cell_type": "code",
   "execution_count": 29,
   "id": "0a85ebd8",
   "metadata": {},
   "outputs": [],
   "source": [
    "for row in range(1,len(Questions)):\n",
    "    data_point = Questions[row].split('\\t')\n",
    "    if len(data_point)>1:\n",
    "        for i in range(len(data_point)):\n",
    "            Data[keys[i]].append(data_point[i])"
   ]
  },
  {
   "cell_type": "code",
   "execution_count": 30,
   "id": "9be061e2",
   "metadata": {},
   "outputs": [
    {
     "ename": "ValueError",
     "evalue": "All arrays must be of the same length",
     "output_type": "error",
     "traceback": [
      "\u001b[0;31m---------------------------------------------------------------------------\u001b[0m",
      "\u001b[0;31mValueError\u001b[0m                                Traceback (most recent call last)",
      "\u001b[0;32m/var/folders/17/t2prrfnd5c59_l2jy04lgrwm0000gn/T/ipykernel_47893/167652019.py\u001b[0m in \u001b[0;36m<module>\u001b[0;34m\u001b[0m\n\u001b[0;32m----> 1\u001b[0;31m \u001b[0mdf\u001b[0m \u001b[0;34m=\u001b[0m \u001b[0mpd\u001b[0m\u001b[0;34m.\u001b[0m\u001b[0mDataFrame\u001b[0m\u001b[0;34m(\u001b[0m\u001b[0mData\u001b[0m\u001b[0;34m)\u001b[0m\u001b[0;34m\u001b[0m\u001b[0;34m\u001b[0m\u001b[0m\n\u001b[0m",
      "\u001b[0;32m~/miniforge3/envs/NLP/lib/python3.9/site-packages/pandas/core/frame.py\u001b[0m in \u001b[0;36m__init__\u001b[0;34m(self, data, index, columns, dtype, copy)\u001b[0m\n\u001b[1;32m    612\u001b[0m         \u001b[0;32melif\u001b[0m \u001b[0misinstance\u001b[0m\u001b[0;34m(\u001b[0m\u001b[0mdata\u001b[0m\u001b[0;34m,\u001b[0m \u001b[0mdict\u001b[0m\u001b[0;34m)\u001b[0m\u001b[0;34m:\u001b[0m\u001b[0;34m\u001b[0m\u001b[0;34m\u001b[0m\u001b[0m\n\u001b[1;32m    613\u001b[0m             \u001b[0;31m# GH#38939 de facto copy defaults to False only in non-dict cases\u001b[0m\u001b[0;34m\u001b[0m\u001b[0;34m\u001b[0m\u001b[0m\n\u001b[0;32m--> 614\u001b[0;31m             \u001b[0mmgr\u001b[0m \u001b[0;34m=\u001b[0m \u001b[0mdict_to_mgr\u001b[0m\u001b[0;34m(\u001b[0m\u001b[0mdata\u001b[0m\u001b[0;34m,\u001b[0m \u001b[0mindex\u001b[0m\u001b[0;34m,\u001b[0m \u001b[0mcolumns\u001b[0m\u001b[0;34m,\u001b[0m \u001b[0mdtype\u001b[0m\u001b[0;34m=\u001b[0m\u001b[0mdtype\u001b[0m\u001b[0;34m,\u001b[0m \u001b[0mcopy\u001b[0m\u001b[0;34m=\u001b[0m\u001b[0mcopy\u001b[0m\u001b[0;34m,\u001b[0m \u001b[0mtyp\u001b[0m\u001b[0;34m=\u001b[0m\u001b[0mmanager\u001b[0m\u001b[0;34m)\u001b[0m\u001b[0;34m\u001b[0m\u001b[0;34m\u001b[0m\u001b[0m\n\u001b[0m\u001b[1;32m    615\u001b[0m         \u001b[0;32melif\u001b[0m \u001b[0misinstance\u001b[0m\u001b[0;34m(\u001b[0m\u001b[0mdata\u001b[0m\u001b[0;34m,\u001b[0m \u001b[0mma\u001b[0m\u001b[0;34m.\u001b[0m\u001b[0mMaskedArray\u001b[0m\u001b[0;34m)\u001b[0m\u001b[0;34m:\u001b[0m\u001b[0;34m\u001b[0m\u001b[0;34m\u001b[0m\u001b[0m\n\u001b[1;32m    616\u001b[0m             \u001b[0;32mimport\u001b[0m \u001b[0mnumpy\u001b[0m\u001b[0;34m.\u001b[0m\u001b[0mma\u001b[0m\u001b[0;34m.\u001b[0m\u001b[0mmrecords\u001b[0m \u001b[0;32mas\u001b[0m \u001b[0mmrecords\u001b[0m\u001b[0;34m\u001b[0m\u001b[0;34m\u001b[0m\u001b[0m\n",
      "\u001b[0;32m~/miniforge3/envs/NLP/lib/python3.9/site-packages/pandas/core/internals/construction.py\u001b[0m in \u001b[0;36mdict_to_mgr\u001b[0;34m(data, index, columns, dtype, typ, copy)\u001b[0m\n\u001b[1;32m    462\u001b[0m         \u001b[0;31m# TODO: can we get rid of the dt64tz special case above?\u001b[0m\u001b[0;34m\u001b[0m\u001b[0;34m\u001b[0m\u001b[0m\n\u001b[1;32m    463\u001b[0m \u001b[0;34m\u001b[0m\u001b[0m\n\u001b[0;32m--> 464\u001b[0;31m     return arrays_to_mgr(\n\u001b[0m\u001b[1;32m    465\u001b[0m         \u001b[0marrays\u001b[0m\u001b[0;34m,\u001b[0m \u001b[0mdata_names\u001b[0m\u001b[0;34m,\u001b[0m \u001b[0mindex\u001b[0m\u001b[0;34m,\u001b[0m \u001b[0mcolumns\u001b[0m\u001b[0;34m,\u001b[0m \u001b[0mdtype\u001b[0m\u001b[0;34m=\u001b[0m\u001b[0mdtype\u001b[0m\u001b[0;34m,\u001b[0m \u001b[0mtyp\u001b[0m\u001b[0;34m=\u001b[0m\u001b[0mtyp\u001b[0m\u001b[0;34m,\u001b[0m \u001b[0mconsolidate\u001b[0m\u001b[0;34m=\u001b[0m\u001b[0mcopy\u001b[0m\u001b[0;34m\u001b[0m\u001b[0;34m\u001b[0m\u001b[0m\n\u001b[1;32m    466\u001b[0m     )\n",
      "\u001b[0;32m~/miniforge3/envs/NLP/lib/python3.9/site-packages/pandas/core/internals/construction.py\u001b[0m in \u001b[0;36marrays_to_mgr\u001b[0;34m(arrays, arr_names, index, columns, dtype, verify_integrity, typ, consolidate)\u001b[0m\n\u001b[1;32m    117\u001b[0m         \u001b[0;31m# figure out the index, if necessary\u001b[0m\u001b[0;34m\u001b[0m\u001b[0;34m\u001b[0m\u001b[0m\n\u001b[1;32m    118\u001b[0m         \u001b[0;32mif\u001b[0m \u001b[0mindex\u001b[0m \u001b[0;32mis\u001b[0m \u001b[0;32mNone\u001b[0m\u001b[0;34m:\u001b[0m\u001b[0;34m\u001b[0m\u001b[0;34m\u001b[0m\u001b[0m\n\u001b[0;32m--> 119\u001b[0;31m             \u001b[0mindex\u001b[0m \u001b[0;34m=\u001b[0m \u001b[0m_extract_index\u001b[0m\u001b[0;34m(\u001b[0m\u001b[0marrays\u001b[0m\u001b[0;34m)\u001b[0m\u001b[0;34m\u001b[0m\u001b[0;34m\u001b[0m\u001b[0m\n\u001b[0m\u001b[1;32m    120\u001b[0m         \u001b[0;32melse\u001b[0m\u001b[0;34m:\u001b[0m\u001b[0;34m\u001b[0m\u001b[0;34m\u001b[0m\u001b[0m\n\u001b[1;32m    121\u001b[0m             \u001b[0mindex\u001b[0m \u001b[0;34m=\u001b[0m \u001b[0mensure_index\u001b[0m\u001b[0;34m(\u001b[0m\u001b[0mindex\u001b[0m\u001b[0;34m)\u001b[0m\u001b[0;34m\u001b[0m\u001b[0;34m\u001b[0m\u001b[0m\n",
      "\u001b[0;32m~/miniforge3/envs/NLP/lib/python3.9/site-packages/pandas/core/internals/construction.py\u001b[0m in \u001b[0;36m_extract_index\u001b[0;34m(data)\u001b[0m\n\u001b[1;32m    633\u001b[0m             \u001b[0mlengths\u001b[0m \u001b[0;34m=\u001b[0m \u001b[0mlist\u001b[0m\u001b[0;34m(\u001b[0m\u001b[0mset\u001b[0m\u001b[0;34m(\u001b[0m\u001b[0mraw_lengths\u001b[0m\u001b[0;34m)\u001b[0m\u001b[0;34m)\u001b[0m\u001b[0;34m\u001b[0m\u001b[0;34m\u001b[0m\u001b[0m\n\u001b[1;32m    634\u001b[0m             \u001b[0;32mif\u001b[0m \u001b[0mlen\u001b[0m\u001b[0;34m(\u001b[0m\u001b[0mlengths\u001b[0m\u001b[0;34m)\u001b[0m \u001b[0;34m>\u001b[0m \u001b[0;36m1\u001b[0m\u001b[0;34m:\u001b[0m\u001b[0;34m\u001b[0m\u001b[0;34m\u001b[0m\u001b[0m\n\u001b[0;32m--> 635\u001b[0;31m                 \u001b[0;32mraise\u001b[0m \u001b[0mValueError\u001b[0m\u001b[0;34m(\u001b[0m\u001b[0;34m\"All arrays must be of the same length\"\u001b[0m\u001b[0;34m)\u001b[0m\u001b[0;34m\u001b[0m\u001b[0;34m\u001b[0m\u001b[0m\n\u001b[0m\u001b[1;32m    636\u001b[0m \u001b[0;34m\u001b[0m\u001b[0m\n\u001b[1;32m    637\u001b[0m             \u001b[0;32mif\u001b[0m \u001b[0mhave_dicts\u001b[0m\u001b[0;34m:\u001b[0m\u001b[0;34m\u001b[0m\u001b[0;34m\u001b[0m\u001b[0m\n",
      "\u001b[0;31mValueError\u001b[0m: All arrays must be of the same length"
     ]
    }
   ],
   "source": [
    "df = pd.DataFrame(Data)"
   ]
  },
  {
   "cell_type": "code",
   "execution_count": 31,
   "id": "71cdeb56",
   "metadata": {},
   "outputs": [
    {
     "data": {
      "text/html": [
       "<div>\n",
       "<style scoped>\n",
       "    .dataframe tbody tr th:only-of-type {\n",
       "        vertical-align: middle;\n",
       "    }\n",
       "\n",
       "    .dataframe tbody tr th {\n",
       "        vertical-align: top;\n",
       "    }\n",
       "\n",
       "    .dataframe thead th {\n",
       "        text-align: right;\n",
       "    }\n",
       "</style>\n",
       "<table border=\"1\" class=\"dataframe\">\n",
       "  <thead>\n",
       "    <tr style=\"text-align: right;\">\n",
       "      <th></th>\n",
       "      <th>ArticleTitle</th>\n",
       "      <th>Question</th>\n",
       "      <th>Answer</th>\n",
       "      <th>DifficultyFromQuestioner</th>\n",
       "      <th>DifficultyFromAnswerer</th>\n",
       "      <th>ArticleFile</th>\n",
       "    </tr>\n",
       "  </thead>\n",
       "  <tbody>\n",
       "    <tr>\n",
       "      <th>0</th>\n",
       "      <td>Alessandro_Volta</td>\n",
       "      <td>Was Volta an Italian physicist?</td>\n",
       "      <td>yes</td>\n",
       "      <td>easy</td>\n",
       "      <td>easy</td>\n",
       "      <td>data/set4/a10</td>\n",
       "    </tr>\n",
       "    <tr>\n",
       "      <th>1</th>\n",
       "      <td>Alessandro_Volta</td>\n",
       "      <td>Was Volta an Italian physicist?</td>\n",
       "      <td>yes</td>\n",
       "      <td>easy</td>\n",
       "      <td>easy</td>\n",
       "      <td>data/set4/a10</td>\n",
       "    </tr>\n",
       "    <tr>\n",
       "      <th>2</th>\n",
       "      <td>Alessandro_Volta</td>\n",
       "      <td>Is Volta buried in the city of Pittsburgh?</td>\n",
       "      <td>no</td>\n",
       "      <td>easy</td>\n",
       "      <td>easy</td>\n",
       "      <td>data/set4/a10</td>\n",
       "    </tr>\n",
       "    <tr>\n",
       "      <th>3</th>\n",
       "      <td>Alessandro_Volta</td>\n",
       "      <td>Is Volta buried in the city of Pittsburgh?</td>\n",
       "      <td>no</td>\n",
       "      <td>easy</td>\n",
       "      <td>easy</td>\n",
       "      <td>data/set4/a10</td>\n",
       "    </tr>\n",
       "    <tr>\n",
       "      <th>4</th>\n",
       "      <td>Alessandro_Volta</td>\n",
       "      <td>Did Volta have a passion for the study of elec...</td>\n",
       "      <td>yes</td>\n",
       "      <td>easy</td>\n",
       "      <td>medium</td>\n",
       "      <td>data/set4/a10</td>\n",
       "    </tr>\n",
       "    <tr>\n",
       "      <th>...</th>\n",
       "      <td>...</td>\n",
       "      <td>...</td>\n",
       "      <td>...</td>\n",
       "      <td>...</td>\n",
       "      <td>...</td>\n",
       "      <td>...</td>\n",
       "    </tr>\n",
       "    <tr>\n",
       "      <th>820</th>\n",
       "      <td>Xylophone</td>\n",
       "      <td>What is the earliest historical reference in E...</td>\n",
       "      <td>Arnold Schlick's Spiegel der Orgelmacher und O...</td>\n",
       "      <td>medium</td>\n",
       "      <td>medium</td>\n",
       "      <td>data/set2/a8</td>\n",
       "    </tr>\n",
       "    <tr>\n",
       "      <th>821</th>\n",
       "      <td>Xylophone</td>\n",
       "      <td>How are western-style xylophones characterised?</td>\n",
       "      <td>by a bright, sharp tone and high register</td>\n",
       "      <td>medium</td>\n",
       "      <td>medium</td>\n",
       "      <td>data/set2/a8</td>\n",
       "    </tr>\n",
       "    <tr>\n",
       "      <th>822</th>\n",
       "      <td>Xylophone</td>\n",
       "      <td>Can a xylophone be 3 octaves?</td>\n",
       "      <td>yes</td>\n",
       "      <td>hard</td>\n",
       "      <td>hard</td>\n",
       "      <td>data/set2/a8</td>\n",
       "    </tr>\n",
       "    <tr>\n",
       "      <th>823</th>\n",
       "      <td>Xylophone</td>\n",
       "      <td>Can a short bar follow a long bar?</td>\n",
       "      <td>no</td>\n",
       "      <td>hard</td>\n",
       "      <td>hard</td>\n",
       "      <td>data/set2/a8</td>\n",
       "    </tr>\n",
       "    <tr>\n",
       "      <th>824</th>\n",
       "      <td>Xylophone</td>\n",
       "      <td>Did vibraphones exist in 1930?</td>\n",
       "      <td>yes</td>\n",
       "      <td>hard</td>\n",
       "      <td>hard</td>\n",
       "      <td>data/set2/a8</td>\n",
       "    </tr>\n",
       "  </tbody>\n",
       "</table>\n",
       "<p>825 rows × 6 columns</p>\n",
       "</div>"
      ],
      "text/plain": [
       "         ArticleTitle                                           Question  \\\n",
       "0    Alessandro_Volta                    Was Volta an Italian physicist?   \n",
       "1    Alessandro_Volta                    Was Volta an Italian physicist?   \n",
       "2    Alessandro_Volta         Is Volta buried in the city of Pittsburgh?   \n",
       "3    Alessandro_Volta         Is Volta buried in the city of Pittsburgh?   \n",
       "4    Alessandro_Volta  Did Volta have a passion for the study of elec...   \n",
       "..                ...                                                ...   \n",
       "820         Xylophone  What is the earliest historical reference in E...   \n",
       "821         Xylophone    How are western-style xylophones characterised?   \n",
       "822         Xylophone                      Can a xylophone be 3 octaves?   \n",
       "823         Xylophone                 Can a short bar follow a long bar?   \n",
       "824         Xylophone                     Did vibraphones exist in 1930?   \n",
       "\n",
       "                                                Answer  \\\n",
       "0                                                  yes   \n",
       "1                                                  yes   \n",
       "2                                                   no   \n",
       "3                                                   no   \n",
       "4                                                  yes   \n",
       "..                                                 ...   \n",
       "820  Arnold Schlick's Spiegel der Orgelmacher und O...   \n",
       "821          by a bright, sharp tone and high register   \n",
       "822                                                yes   \n",
       "823                                                 no   \n",
       "824                                                yes   \n",
       "\n",
       "    DifficultyFromQuestioner DifficultyFromAnswerer    ArticleFile  \n",
       "0                       easy                   easy  data/set4/a10  \n",
       "1                       easy                   easy  data/set4/a10  \n",
       "2                       easy                   easy  data/set4/a10  \n",
       "3                       easy                   easy  data/set4/a10  \n",
       "4                       easy                 medium  data/set4/a10  \n",
       "..                       ...                    ...            ...  \n",
       "820                   medium                 medium   data/set2/a8  \n",
       "821                   medium                 medium   data/set2/a8  \n",
       "822                     hard                   hard   data/set2/a8  \n",
       "823                     hard                   hard   data/set2/a8  \n",
       "824                     hard                   hard   data/set2/a8  \n",
       "\n",
       "[825 rows x 6 columns]"
      ]
     },
     "execution_count": 31,
     "metadata": {},
     "output_type": "execute_result"
    }
   ],
   "source": [
    "df"
   ]
  },
  {
   "cell_type": "code",
   "execution_count": 16,
   "id": "0189d12f",
   "metadata": {},
   "outputs": [],
   "source": [
    "from collections import defaultdict\n",
    "\n",
    "Articles = defaultdict(list)\n",
    "\n",
    "# for i,path in enumerate(df['ArticleFile']):\n",
    "#     if df['ArticleTitle'][i] not in list(Articles.keys()):\n",
    "#         Articles[df['ArticleTitle'][i]] = Get_Tokens(path)"
   ]
  },
  {
   "cell_type": "markdown",
   "id": "52dbdfd7",
   "metadata": {},
   "source": [
    "## Creating a Custom Dataset for our Articles"
   ]
  },
  {
   "cell_type": "code",
   "execution_count": null,
   "id": "78754a13",
   "metadata": {},
   "outputs": [],
   "source": [
    "def read_file(path):\n",
    "    with open('../Data/Question_Answer_Dataset_v1.2/'+'S10/'+file_path+'.txt','r') as g:\n",
    "        text = g.read()\n",
    "    return Article\n",
    "\n",
    "class CustomImageDataset(Dataset):\n",
    "    def __init__(self, article_file_names,questions,answers):\n",
    "        \n",
    "#         Articles = defaultdict(list)\n",
    "#         for i, path in enumerate(article_file_names):\n",
    "#             if article_file_names[i] not in list(Articles.keys()):\n",
    "#                 Articles[article_file_names[i]] = read_file()\n",
    "        for i,Q in enumerate(questions):\n",
    "            if answers[i] in ['Yes','No']:\n",
    "                continue\n",
    "            \n",
    "                \n",
    "                \n",
    "        self.\n",
    "        self.img_labels = pd.read_csv(annotations_file)\n",
    "        self.img_dir = img_dir\n",
    "        self.transform = transform\n",
    "        self.target_transform = target_transform\n",
    "\n",
    "    def __len__(self):\n",
    "        return len(self.img_labels)\n",
    "\n",
    "    def __getitem__(self, idx):\n",
    "        img_path = os.path.join(self.img_dir, self.img_labels.iloc[idx, 0])\n",
    "        image = read_image(img_path)\n",
    "        label = self.img_labels.iloc[idx, 1]\n",
    "        if self.transform:\n",
    "            image = self.transform(image)\n",
    "        if self.target_transform:\n",
    "            label = self.target_transform(label)\n",
    "        return image, label"
   ]
  }
 ],
 "metadata": {
  "kernelspec": {
   "display_name": "NLP",
   "language": "python",
   "name": "nlp"
  },
  "language_info": {
   "codemirror_mode": {
    "name": "ipython",
    "version": 3
   },
   "file_extension": ".py",
   "mimetype": "text/x-python",
   "name": "python",
   "nbconvert_exporter": "python",
   "pygments_lexer": "ipython3",
   "version": "3.9.7"
  }
 },
 "nbformat": 4,
 "nbformat_minor": 5
}
