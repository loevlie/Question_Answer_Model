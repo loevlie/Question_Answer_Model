{
 "cells": [
  {
   "cell_type": "markdown",
   "id": "b9beab30-28f1-49b9-acc8-176301b1c490",
   "metadata": {},
   "source": [
    "# Testing the Code"
   ]
  },
  {
   "cell_type": "code",
   "execution_count": 1,
   "id": "418b83ba-ea09-4a33-ba9a-36695db9651a",
   "metadata": {},
   "outputs": [
    {
     "name": "stdout",
     "output_type": "stream",
     "text": [
      "114\n",
      "After completing his growth hormone treatment aged 14, Messi became an integral part of the \"Baby Dream Team\", Barcelona's greatest-ever youth side. -- score 0.5974470041681134\n",
      "However, his future as a professional player was threatened when, at age 10, he was diagnosed with a growth hormone deficiency. -- score 0.61800181790615\n",
      "Messi making his Maradona-esque run against Getafe in 2007.Already frequently compared to compatriot Diego Maradona, Messi proved their similarity when he nearly replicated Maradona's two most famous goals in the span of seven weeks. -- score 0.6374081137240359\n",
      "\n",
      "\n",
      "Vectors for sentence 1: {his growth hormone treatment: array([0.60092825, 0.17240225, 1.        , 0.        , 3.        ,\n",
      "       0.        , 4.        ]), Messi: array([-0.03365252,  0.28499752,  1.        ,  1.        ,  1.        ,\n",
      "        0.        ,  1.        ]), Barcelona's greatest-ever youth side: array([0.32164583, 0.28499752, 1.        , 0.        , 4.        ,\n",
      "       0.        , 7.        ]), Baby Dream Team: array([0.25928891, 0.28499752, 1.        , 0.        , 3.        ,\n",
      "       0.        , 3.        ]), an integral part: array([0.2806524 , 0.28499752, 1.        , 0.        , 1.        ,\n",
      "       0.        , 3.        ])}\n",
      "Vectors for sentence 2: {a professional player: array([0.20930746, 0.18967947, 1.        , 0.        , 3.        ,\n",
      "       0.        , 3.        ]), his future: array([0.30549589, 0.18967947, 1.        , 0.        , 1.        ,\n",
      "       0.        , 2.        ]), age 10: array([0.34708148, 1.        , 1.        , 0.        , 3.        ,\n",
      "       0.        , 2.        ]), he: array([0.24498187, 1.        , 1.        , 0.        , 2.        ,\n",
      "       0.        , 1.        ]), a growth hormone deficiency: array([0.6137439, 1.       , 1.       , 0.       , 3.       , 0.       ,\n",
      "       4.       ])}\n",
      "Vectors for sentence 3: {Messi: array([-0.03365252,  0.11699794,  1.        ,  1.        ,  2.        ,\n",
      "        0.        ,  1.        ]), Getafe: array([7.11028522e-04, 1.16997942e-01, 1.00000000e+00, 0.00000000e+00,\n",
      "       4.00000000e+00, 0.00000000e+00, 1.00000000e+00]), his Maradona-esque run: array([0.11996339, 0.11699794, 1.        , 0.        , 2.        ,\n",
      "       0.        , 5.        ]), Diego Maradona: array([0.04714948, 0.32477227, 1.        , 0.        , 4.        ,\n",
      "       0.        , 2.        ]), Messi: array([-0.03365252,  0.25973719,  1.        ,  1.        ,  1.        ,\n",
      "        0.        ,  1.        ]), their similarity: array([0.30147487, 0.25973719, 1.        , 0.        , 1.        ,\n",
      "       0.        , 2.        ]), he: array([0.24498187, 0.10286053, 1.        , 0.        , 2.        ,\n",
      "       0.        , 1.        ]), seven weeks: array([0.28597626, 0.10286053, 1.        , 0.        , 6.        ,\n",
      "       0.        , 2.        ]), the span of seven weeks: array([0.36918032, 0.10286053, 1.        , 0.        , 4.        ,\n",
      "       0.        , 5.        ]), Maradona's two most famous goals: array([0.2644676 , 0.10286053, 1.        , 0.        , 2.        ,\n",
      "       0.        , 6.        ])}\n"
     ]
    }
   ],
   "source": [
    "import spacy\n",
    "import numpy as np\n",
    "import QAfeatures,dennyCode_modified\n",
    "\n",
    "entMapping = {'TIME':['DATE','CARDINAL','TIME'],\n",
    "              'LOCATION':['GPE','LOC'],\n",
    "              'PERSON':['PERSON','ORG'],\n",
    "              'AMT_COUNTABLE':['QUANTITY','MONEY','CARDINAL'],\n",
    "              'AMT_UNCOUNTABLE':['QUANTITY','MONEY','CARDINAL']}\n",
    "\n",
    "\n",
    "Answer_File = 'messi.txt'\n",
    "with open(Answer_File,'r') as f:\n",
    "    rawText = f.read()\n",
    "\n",
    "rawText = rawText.replace('\\n','.')\n",
    "\n",
    "question = 'What disease was Messi diagnosed with?'\n",
    "\n",
    "sentenceDict = dennyCode_modified.find_similar_sentences(rawText,question,3)\n",
    "print('\\n'.join((sentenceDict[i].text.strip()+ ' -- score ' + str(i)) for i in sentenceDict))        \n",
    "\n",
    "\n",
    "QS = QAfeatures.QuestionSense(question)\n",
    "Q_verbParent = QAfeatures.verbParent(QS.questionChain)\n",
    "\n",
    "print('\\n')\n",
    "for i,score in enumerate(sentenceDict):\n",
    "    sentence = sentenceDict[score]\n",
    "    if QS.ansType:\n",
    "        candidates = [ent.root for ent in sentence.ents]\n",
    "    elif QS.descriptors:\n",
    "        candidates = [p.root for p in sentence.noun_chunks]\n",
    "    else:\n",
    "        candidates = [p.root for p in sentence.noun_chunks]\n",
    "        for token in sentence:\n",
    "            if token not in candidates and not any(token in p for p in sentence.noun_chunks):\n",
    "                candidates.append(token)\n",
    "    \n",
    "    AS = QAfeatures.AnswerSense(sentence,candidates)\n",
    "    vectors = {}\n",
    "    \n",
    "    for candidate in AS.nodeDic:\n",
    "        \n",
    "        # Fill out the feature vector, [v1 v2 v3 v4 v5 v6 v7]\n",
    "        # v1: similarity between descriptor and candidate (default 0)\n",
    "        # v2: similarity between candidate's verb parent and question's verb parent\n",
    "        # v3: fraction of downwards dependents of question particle that are shared\n",
    "        #     by the candidate (default 1)\n",
    "        # v4: whether the candidate answer is contained within the question\n",
    "        # v5: the length of the candidate answer's chain to its root\n",
    "        # v6: if the question has an answer type, whether the candidate named-entity\n",
    "        #     is of the type needed (default 0)\n",
    "        # v7: the length of the candidate answer\n",
    "        node,chain = AS.nodeDic[candidate]\n",
    "        \n",
    "        if QS.descriptors:\n",
    "            v1 = candidate.similarity(QS.descriptors)\n",
    "        else:\n",
    "            v1 = 0\n",
    "\n",
    "        A_verbParent = QAfeatures.verbParent(chain)\n",
    "        if not Q_verbParent or not A_verbParent:\n",
    "            v2 = 0\n",
    "        else:\n",
    "            v2 = A_verbParent.similarity(Q_verbParent)\n",
    "\n",
    "        if not QS.questionNode.children:\n",
    "            v3 = 1\n",
    "        else:\n",
    "            q = set()\n",
    "            for parseNode in QS.questionNode.children:\n",
    "                token = parseNode.token.root if type(parseNode.token)==spacy.tokens.Span \\\n",
    "                        else parseNode.token\n",
    "                q.add(token.text)\n",
    "\n",
    "            r = set()\n",
    "            for parseNode in candidate.children:\n",
    "                token = parseNode.token.root if type(parseNode.token)==spacy.tokens.Span \\\n",
    "                        else parseNode.token\n",
    "                r.add(token.text)\n",
    "\n",
    "            v3 = len(q.intersect(r))/len(q)\n",
    "\n",
    "        v4 = int('~|'.join(c.text for c in candidate) in \\\n",
    "                 '~|'.join(t.text for t in QS.doc))\n",
    "\n",
    "        v5 = len(chain)\n",
    "\n",
    "        v6 = 0\n",
    "        if QS.ansType and candidate in AS.doc.ents and candidate.label_ in entMapping[QS.ansType]:\n",
    "            v6 = 1\n",
    "\n",
    "        v7 = len(candidate)\n",
    "\n",
    "        vec = np.array([v1,v2,v3,v4,v5,v6,v7])\n",
    "        #print(candidate,vec)\n",
    "        vectors[candidate] = vec\n",
    "    print('Vectors for sentence {}:'.format(i+1), vectors)"
   ]
  },
  {
   "cell_type": "code",
   "execution_count": 1,
   "id": "cb2d87ca-30e3-4935-bde8-4e258c1ab8a6",
   "metadata": {},
   "outputs": [],
   "source": [
    "from Utils import get_features"
   ]
  },
  {
   "cell_type": "code",
   "execution_count": 2,
   "id": "029184a8-85ed-4972-b192-a6dbd6d20879",
   "metadata": {},
   "outputs": [
    {
     "name": "stdout",
     "output_type": "stream",
     "text": [
      "114\n"
     ]
    }
   ],
   "source": [
    "vecs = get_features(text='messi.txt',question='What disease was Messi diagnosed with?',num_rel_sentences=3)"
   ]
  },
  {
   "cell_type": "code",
   "execution_count": null,
   "id": "dafadf1f-d703-4907-90e2-8f19aabdacd0",
   "metadata": {},
   "outputs": [],
   "source": []
  }
 ],
 "metadata": {
  "kernelspec": {
   "display_name": "Python 3",
   "language": "python",
   "name": "python3"
  },
  "language_info": {
   "codemirror_mode": {
    "name": "ipython",
    "version": 3
   },
   "file_extension": ".py",
   "mimetype": "text/x-python",
   "name": "python",
   "nbconvert_exporter": "python",
   "pygments_lexer": "ipython3",
   "version": "3.8.8"
  }
 },
 "nbformat": 4,
 "nbformat_minor": 5
}
