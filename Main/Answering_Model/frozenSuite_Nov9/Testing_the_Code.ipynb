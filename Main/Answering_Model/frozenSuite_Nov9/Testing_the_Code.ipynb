{
 "cells": [
  {
   "cell_type": "markdown",
   "id": "b9beab30-28f1-49b9-acc8-176301b1c490",
   "metadata": {},
   "source": [
    "# Testing the Code"
   ]
  },
  {
   "cell_type": "code",
   "execution_count": 8,
   "id": "cb2d87ca-30e3-4935-bde8-4e258c1ab8a6",
   "metadata": {},
   "outputs": [],
   "source": [
    "from Utils import get_features\n",
    "import numpy as np"
   ]
  },
  {
   "cell_type": "code",
   "execution_count": 2,
   "id": "029184a8-85ed-4972-b192-a6dbd6d20879",
   "metadata": {},
   "outputs": [],
   "source": [
    "vecs = get_features(text='messi.txt',question='What disease was Messi diagnosed with?',num_rel_sentences=3)"
   ]
  },
  {
   "cell_type": "code",
   "execution_count": 7,
   "id": "dafadf1f-d703-4907-90e2-8f19aabdacd0",
   "metadata": {},
   "outputs": [
    {
     "data": {
      "text/plain": [
       "[his growth hormone treatment,\n",
       " Messi,\n",
       " Barcelona's greatest-ever youth side,\n",
       " Baby Dream Team,\n",
       " an integral part]"
      ]
     },
     "execution_count": 7,
     "metadata": {},
     "output_type": "execute_result"
    }
   ],
   "source": [
    "list(vecs['sentence 0'].keys())"
   ]
  },
  {
   "cell_type": "markdown",
   "id": "f797fd99-adfc-4624-aa89-35829cb78c0d",
   "metadata": {},
   "source": [
    "# Using the Dataset"
   ]
  },
  {
   "cell_type": "code",
   "execution_count": 9,
   "id": "987dd9fa-93c2-4893-983f-15cbf54d61e1",
   "metadata": {},
   "outputs": [],
   "source": [
    "import numpy as np \n",
    "import pandas as pd\n",
    "import seaborn as sns\n",
    "import matplotlib.pyplot as plt\n",
    "import spacy"
   ]
  },
  {
   "cell_type": "markdown",
   "id": "d5b5f178-e34d-4cea-b2a6-80933671ee9b",
   "metadata": {},
   "source": [
    "Getting the Data/Cleaning:"
   ]
  },
  {
   "cell_type": "code",
   "execution_count": 11,
   "id": "ca655acf-0cb6-475d-b32c-407c251015e4",
   "metadata": {},
   "outputs": [],
   "source": [
    "Answer_File = '../../Data/Question_Answer_Dataset_v1.2/S10/question_answer_pairs.txt'"
   ]
  },
  {
   "cell_type": "code",
   "execution_count": 12,
   "id": "1530f58f-5a43-4bd5-a826-460c356d784e",
   "metadata": {},
   "outputs": [],
   "source": [
    "with open(Answer_File,'r',encoding=\"ISO-8859-1\") as f:\n",
    "    Questions = f.read().split('\\n')"
   ]
  },
  {
   "cell_type": "code",
   "execution_count": 13,
   "id": "ca8ffdfc-76cd-49f5-8eca-6d92d37cc273",
   "metadata": {},
   "outputs": [],
   "source": [
    "Data = {key:[] for key in Questions[0].split('\\t')}"
   ]
  },
  {
   "cell_type": "code",
   "execution_count": 14,
   "id": "1d31c00f-0a09-4a7a-af57-9f5728283c3d",
   "metadata": {},
   "outputs": [],
   "source": [
    "keys = list(Data.keys())"
   ]
  },
  {
   "cell_type": "code",
   "execution_count": 15,
   "id": "831685ca-d046-4bbe-a0c3-d1c9305692c7",
   "metadata": {},
   "outputs": [],
   "source": [
    "for row in range(1,len(Questions)):\n",
    "    data_point = Questions[row].split('\\t')\n",
    "    if len(data_point)>1:\n",
    "        for i in range(len(data_point)):\n",
    "            Data[keys[i]].append(data_point[i])"
   ]
  },
  {
   "cell_type": "code",
   "execution_count": 17,
   "id": "90e3527a-cd45-4005-8962-1e19feca14c9",
   "metadata": {},
   "outputs": [],
   "source": [
    "df = pd.DataFrame(Data)"
   ]
  },
  {
   "cell_type": "code",
   "execution_count": 18,
   "id": "07ba5708-56a9-4f46-97d5-d51f496fa9d7",
   "metadata": {},
   "outputs": [
    {
     "data": {
      "text/html": [
       "<div>\n",
       "<style scoped>\n",
       "    .dataframe tbody tr th:only-of-type {\n",
       "        vertical-align: middle;\n",
       "    }\n",
       "\n",
       "    .dataframe tbody tr th {\n",
       "        vertical-align: top;\n",
       "    }\n",
       "\n",
       "    .dataframe thead th {\n",
       "        text-align: right;\n",
       "    }\n",
       "</style>\n",
       "<table border=\"1\" class=\"dataframe\">\n",
       "  <thead>\n",
       "    <tr style=\"text-align: right;\">\n",
       "      <th></th>\n",
       "      <th>ArticleTitle</th>\n",
       "      <th>Question</th>\n",
       "      <th>Answer</th>\n",
       "      <th>DifficultyFromQuestioner</th>\n",
       "      <th>DifficultyFromAnswerer</th>\n",
       "      <th>ArticleFile</th>\n",
       "    </tr>\n",
       "  </thead>\n",
       "  <tbody>\n",
       "    <tr>\n",
       "      <th>0</th>\n",
       "      <td>Alessandro_Volta</td>\n",
       "      <td>Was Alessandro Volta a professor of chemistry?</td>\n",
       "      <td>Alessandro Volta was not a professor of chemis...</td>\n",
       "      <td>easy</td>\n",
       "      <td>easy</td>\n",
       "      <td>data/set4/a10</td>\n",
       "    </tr>\n",
       "    <tr>\n",
       "      <th>1</th>\n",
       "      <td>Alessandro_Volta</td>\n",
       "      <td>Was Alessandro Volta a professor of chemistry?</td>\n",
       "      <td>No</td>\n",
       "      <td>easy</td>\n",
       "      <td>hard</td>\n",
       "      <td>data/set4/a10</td>\n",
       "    </tr>\n",
       "    <tr>\n",
       "      <th>2</th>\n",
       "      <td>Alessandro_Volta</td>\n",
       "      <td>Did Alessandro Volta invent the remotely opera...</td>\n",
       "      <td>Alessandro Volta did invent the remotely opera...</td>\n",
       "      <td>easy</td>\n",
       "      <td>easy</td>\n",
       "      <td>data/set4/a10</td>\n",
       "    </tr>\n",
       "    <tr>\n",
       "      <th>3</th>\n",
       "      <td>Alessandro_Volta</td>\n",
       "      <td>Did Alessandro Volta invent the remotely opera...</td>\n",
       "      <td>Yes</td>\n",
       "      <td>easy</td>\n",
       "      <td>easy</td>\n",
       "      <td>data/set4/a10</td>\n",
       "    </tr>\n",
       "    <tr>\n",
       "      <th>4</th>\n",
       "      <td>Alessandro_Volta</td>\n",
       "      <td>Was Alessandro Volta taught in public schools?</td>\n",
       "      <td>Volta was taught in public schools.</td>\n",
       "      <td>easy</td>\n",
       "      <td>easy</td>\n",
       "      <td>data/set4/a10</td>\n",
       "    </tr>\n",
       "  </tbody>\n",
       "</table>\n",
       "</div>"
      ],
      "text/plain": [
       "       ArticleTitle                                           Question  \\\n",
       "0  Alessandro_Volta     Was Alessandro Volta a professor of chemistry?   \n",
       "1  Alessandro_Volta     Was Alessandro Volta a professor of chemistry?   \n",
       "2  Alessandro_Volta  Did Alessandro Volta invent the remotely opera...   \n",
       "3  Alessandro_Volta  Did Alessandro Volta invent the remotely opera...   \n",
       "4  Alessandro_Volta     Was Alessandro Volta taught in public schools?   \n",
       "\n",
       "                                              Answer DifficultyFromQuestioner  \\\n",
       "0  Alessandro Volta was not a professor of chemis...                     easy   \n",
       "1                                                 No                     easy   \n",
       "2  Alessandro Volta did invent the remotely opera...                     easy   \n",
       "3                                                Yes                     easy   \n",
       "4                Volta was taught in public schools.                     easy   \n",
       "\n",
       "  DifficultyFromAnswerer    ArticleFile  \n",
       "0                   easy  data/set4/a10  \n",
       "1                   hard  data/set4/a10  \n",
       "2                   easy  data/set4/a10  \n",
       "3                   easy  data/set4/a10  \n",
       "4                   easy  data/set4/a10  "
      ]
     },
     "execution_count": 18,
     "metadata": {},
     "output_type": "execute_result"
    }
   ],
   "source": [
    "df.head()"
   ]
  },
  {
   "cell_type": "code",
   "execution_count": null,
   "id": "a7ff9b50-2d32-46d8-934d-dc13420b9e04",
   "metadata": {},
   "outputs": [],
   "source": []
  },
  {
   "cell_type": "code",
   "execution_count": 20,
   "id": "f14b3bc4-e28b-4fc2-a341-8fe0fbd153d5",
   "metadata": {},
   "outputs": [],
   "source": [
    "from collections import defaultdict\n",
    "\n",
    "Articles = defaultdict(list)\n",
    "\n",
    "# for i,path in enumerate(df['ArticleFile']):\n",
    "#     if df['ArticleTitle'][i] not in list(Articles.keys()):\n",
    "#         Articles[df['ArticleTitle'][i]] = Get_Tokens(path)"
   ]
  },
  {
   "cell_type": "markdown",
   "id": "5fdcc222-2b50-4fe6-89f3-08d7d06b8e9a",
   "metadata": {},
   "source": [
    "## Creating a Custom Dataset for our Articles"
   ]
  },
  {
   "cell_type": "code",
   "execution_count": null,
   "id": "282cd02a-8be2-4139-9c72-c278e6e5579e",
   "metadata": {},
   "outputs": [],
   "source": [
    "def read_file(path):\n",
    "    with open('../Data/Question_Answer_Dataset_v1.2/'+'S10/'+file_path+'.txt','r') as g:\n",
    "        text = g.read()\n",
    "    return Article\n",
    "\n",
    "class CustomImageDataset(Dataset):\n",
    "    def __init__(self, article_file_names,questions,answers):\n",
    "        self.\n",
    "        self.img_labels = pd.read_csv(annotations_file)\n",
    "        self.img_dir = img_dir\n",
    "        self.transform = transform\n",
    "        self.target_transform = target_transform\n",
    "\n",
    "    def __len__(self):\n",
    "        return len(self.img_labels)\n",
    "\n",
    "    def __getitem__(self, idx):\n",
    "        img_path = os.path.join(self.img_dir, self.img_labels.iloc[idx, 0])\n",
    "        image = read_image(img_path)\n",
    "        label = self.img_labels.iloc[idx, 1]\n",
    "        if self.transform:\n",
    "            image = self.transform(image)\n",
    "        if self.target_transform:\n",
    "            label = self.target_transform(label)\n",
    "        return image, label"
   ]
  }
 ],
 "metadata": {
  "kernelspec": {
   "display_name": "Python 3",
   "language": "python",
   "name": "python3"
  },
  "language_info": {
   "codemirror_mode": {
    "name": "ipython",
    "version": 3
   },
   "file_extension": ".py",
   "mimetype": "text/x-python",
   "name": "python",
   "nbconvert_exporter": "python",
   "pygments_lexer": "ipython3",
   "version": "3.8.8"
  }
 },
 "nbformat": 4,
 "nbformat_minor": 5
}
