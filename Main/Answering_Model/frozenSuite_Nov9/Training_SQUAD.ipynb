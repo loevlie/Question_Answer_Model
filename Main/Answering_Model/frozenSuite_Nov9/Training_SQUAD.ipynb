{
 "cells": [
  {
   "cell_type": "markdown",
   "id": "164a25bf",
   "metadata": {},
   "source": [
    "# Working with SQUAD Dataset"
   ]
  },
  {
   "cell_type": "code",
   "execution_count": 1,
   "id": "6303e3b9",
   "metadata": {},
   "outputs": [],
   "source": [
    "import pandas as pd\n",
    "from Utils import get_features\n",
    "import numpy as np\n",
    "import torch\n",
    "import torch.nn as nn\n",
    "import torch.nn.functional as F\n",
    "from torch.utils.data import Dataset, DataLoader"
   ]
  },
  {
   "cell_type": "code",
   "execution_count": 2,
   "id": "193c4e45",
   "metadata": {},
   "outputs": [
    {
     "name": "stdout",
     "output_type": "stream",
     "text": [
      "QAfeatures.py           \u001b[1m\u001b[36m__pycache__\u001b[m\u001b[m/            lincoln.txt\n",
      "Testing_the_Code.ipynb  answers.py              messi.txt\n",
      "Untitled.ipynb          dennyCode_modified.py\n",
      "Utils.py                dev-v2.0.json\n"
     ]
    }
   ],
   "source": [
    "ls"
   ]
  },
  {
   "cell_type": "code",
   "execution_count": 3,
   "id": "529a2431",
   "metadata": {},
   "outputs": [],
   "source": [
    "df = pd.read_json('dev-v2.0.json')"
   ]
  },
  {
   "cell_type": "code",
   "execution_count": 4,
   "id": "44cff3de-e0cb-4183-ac7b-3ae7b7d27408",
   "metadata": {},
   "outputs": [
    {
     "data": {
      "text/plain": [
       "39"
      ]
     },
     "execution_count": 4,
     "metadata": {},
     "output_type": "execute_result"
    }
   ],
   "source": [
    "len(df['data'][0]['paragraphs'])"
   ]
  },
  {
   "cell_type": "code",
   "execution_count": 5,
   "id": "2a877428-c4c3-4716-a668-d9e255541849",
   "metadata": {},
   "outputs": [],
   "source": [
    "def parse_title(df,title_index):\n",
    "    \"\"\"Function to parse the SQUAD data structure for one article and return the full text, Questions and Answers.\n",
    "\n",
    "    Args:\n",
    "        df (dict): SQUAD data set structure\n",
    "        title_index (int): Index number for the article you would like to parse\n",
    "\n",
    "    Returns:\n",
    "        text (str): The full text of the article (paragraphs are separated by \\n)\n",
    "        Questions (list): A list of all of the questions (marked as possible)\n",
    "        Answers (list):  A list of all the answers corresponding to the Question list \n",
    "    \"\"\"\n",
    "\n",
    "    text = '\\n'.join([df['data'][title_index]['paragraphs'][i]['context'] for i in range(len(df['data'][title_index]['paragraphs']))])\n",
    "\n",
    "    Questions = []\n",
    "    Answers = []\n",
    "\n",
    "    for i in range(len(df['data'][title_index]['paragraphs'])):\n",
    "        for j in range(len(df['data'][title_index]['paragraphs'][i]['qas'])):\n",
    "            if df['data'][title_index]['paragraphs'][i]['qas'][j]['is_impossible'] == True:\n",
    "                continue\n",
    "            else:\n",
    "                Questions.append(df['data'][title_index]['paragraphs'][i]['qas'][j]['question'])\n",
    "                Answers.append([x['text'] for x in df['data'][title_index]['paragraphs'][i]['qas'][j]['answers']])\n",
    "    \n",
    "    return text, Questions, Answers"
   ]
  },
  {
   "cell_type": "code",
   "execution_count": 6,
   "id": "a459c5dc-380f-40a2-ac80-52ee960b33b0",
   "metadata": {},
   "outputs": [],
   "source": [
    "import random \n",
    "\n",
    "def random_index(n, end, start = 0):\n",
    "    return list(range(start, n)) + list(range(n+1, end))\n",
    "\n",
    "def filter_questions(vecs,Answers):\n",
    "    \"\"\"First figure out if the answer was found in the feature vectors.  Next find and return the answer feature vector and a randomly selected incorrect answer feature vector.\n",
    "    \n",
    "\n",
    "    Args:\n",
    "        vecs (list): list of n feature vectors (from n sentences choosen previously)\n",
    "        Answers (list): list of answers given by SQUAD\n",
    "\n",
    "    Returns:\n",
    "        found_answer (bool): Was the answer found or not?\n",
    "        correct_feature_vector (array): Feaure vector of the correct answer\n",
    "        incorrect_feature_vector (array): Feature vector of the incorrect answer\n",
    "    \"\"\"\n",
    "\n",
    "    # Did we find the correct answer?\n",
    "    check = []\n",
    "    for vec in vecs:\n",
    "        check.append(any(item in Answers for item in [str(i) for i in vec.keys()]))\n",
    "    \n",
    "    if any(check):\n",
    "        break_out_flag = False\n",
    "        for vec in vecs:\n",
    "            for Answer in set(Answers):\n",
    "                vec_list = [str(i) for i in vec.keys()]\n",
    "                if Answer in vec_list:\n",
    "                    correct_index = vec_list.index(Answer)\n",
    "                    correct_feature_vector = list(vec.values())[correct_index]\n",
    "                    incorrect_feature_vector = list(vec.values())[random.choice(random_index(correct_index,len(list(vec.values()))))]\n",
    "                    while all(incorrect_feature_vector==correct_feature_vector):\n",
    "                        incorrect_feature_vector = list(vec.values())[random.choice(random_index(correct_index,len(list(vec.values()))))]\n",
    "                    break_out_flag = True\n",
    "                    found_answer = True\n",
    "                    break\n",
    "            if break_out_flag:\n",
    "                break\n",
    "    else:\n",
    "        correct_feature_vector = np.array([])\n",
    "        incorrect_feature_vector = np.array([])\n",
    "        found_answer = False\n",
    "\n",
    "\n",
    "    return found_answer, correct_feature_vector, incorrect_feature_vector"
   ]
  },
  {
   "cell_type": "code",
   "execution_count": 7,
   "id": "c9720e77-16f1-4c67-95aa-1ca1619d6293",
   "metadata": {},
   "outputs": [
    {
     "ename": "NameError",
     "evalue": "name 'output_vec' is not defined",
     "output_type": "error",
     "traceback": [
      "\u001b[0;31m---------------------------------------------------------------------------\u001b[0m",
      "\u001b[0;31mNameError\u001b[0m                                 Traceback (most recent call last)",
      "\u001b[0;32m<ipython-input-7-51e7142e1d93>\u001b[0m in \u001b[0;36m<module>\u001b[0;34m\u001b[0m\n\u001b[0;32m----> 1\u001b[0;31m \u001b[0moutput_vec\u001b[0m\u001b[0;34m\u001b[0m\u001b[0;34m\u001b[0m\u001b[0m\n\u001b[0m",
      "\u001b[0;31mNameError\u001b[0m: name 'output_vec' is not defined"
     ]
    }
   ],
   "source": [
    "output_vec"
   ]
  },
  {
   "cell_type": "code",
   "execution_count": null,
   "id": "61863823-4c69-4715-a0b5-e2b54bcb05ef",
   "metadata": {},
   "outputs": [
    {
     "name": "stdout",
     "output_type": "stream",
     "text": [
      "35\n"
     ]
    },
    {
     "data": {
      "application/vnd.jupyter.widget-view+json": {
       "model_id": "ebac585a9d6849849e0b35d4f6db602a",
       "version_major": 2,
       "version_minor": 0
      },
      "text/plain": [
       "  0%|          | 0/35 [00:00<?, ?it/s]"
      ]
     },
     "metadata": {},
     "output_type": "display_data"
    }
   ],
   "source": [
    "from tqdm.notebook import tqdm\n",
    "\n",
    "\n",
    "feature_vec = []\n",
    "output_vec = []\n",
    "print(len(df['data']))\n",
    "counter = 0\n",
    "for j in tqdm(range(len(df['data']))):\n",
    "    text, Questions, Answers = parse_title(df,j)\n",
    "    for i, Q in enumerate(Questions):\n",
    "        try:\n",
    "            vecs = get_features(text=text,question=Q,num_rel_sentences=3)\n",
    "        except:\n",
    "            continue\n",
    "        try:\n",
    "            found, correct, incorrect = filter_questions(vecs,Answers[i])\n",
    "        except:\n",
    "            continue\n",
    "        \n",
    "        if found:\n",
    "            counter+=1\n",
    "#             feature_vec.append(correct)\n",
    "#             output_vec.append(1)\n",
    "\n",
    "#             feature_vec.append(incorrect)\n",
    "#             output_vec.append(0)"
   ]
  },
  {
   "cell_type": "code",
   "execution_count": 8,
   "id": "bc9a2f6c-98b6-4b91-a05f-451453dc3806",
   "metadata": {},
   "outputs": [
    {
     "data": {
      "text/plain": [
       "[]"
      ]
     },
     "execution_count": 8,
     "metadata": {},
     "output_type": "execute_result"
    }
   ],
   "source": [
    "output_vec"
   ]
  },
  {
   "cell_type": "code",
   "execution_count": 131,
   "id": "1564d7f1-f710-4224-95fb-993c99456916",
   "metadata": {},
   "outputs": [],
   "source": [
    "\n",
    "\n",
    "class CustomDataset(Dataset):\n",
    "    def __init__(self, df, rel_sentences=3):\n",
    "        \n",
    "#         feature_vec = []\n",
    "#         output_vec = []\n",
    "#         print(len(df['data']))\n",
    "        \n",
    "#         for j in range(len(df['data'])):\n",
    "#             text, Questions, Answers = parse_title(df,j)\n",
    "#             for i, Q in enumerate(Questions):\n",
    "#                 try:\n",
    "#                     vecs = get_features(text=text,question=Q,num_rel_sentences=rel_sentences)\n",
    "#                 except:\n",
    "#                     continue\n",
    "#                 found, correct, incorrect = filter_questions(vecs,Answers[i])\n",
    "#                 if found:\n",
    "#                     feature_vec.append(correct)\n",
    "#                     output_vec.append(1)\n",
    "                    \n",
    "#                     feature_vec.append(incorrect)\n",
    "#                     output_vec.append(0)\n",
    "            print(j)\n",
    "                \n",
    "                \n",
    "        a = np.array(feature_vec)\n",
    "        b = np.array(output_vec)\n",
    "\n",
    "        indices = np.arange(a.shape[0])\n",
    "        np.random.shuffle(indices)\n",
    "\n",
    "        self.feature_vec = a[indices]\n",
    "        self.output_vec = b[indices]\n",
    "        \n",
    "    def __len__(self):\n",
    "        return len(self.output_vec)\n",
    "\n",
    "    def __getitem__(self, idx):\n",
    "        x = torch.tensor(self.feature_vec[idx])\n",
    "        y = torch.tensor(self.output_vec[idx])\n",
    "        return x , y"
   ]
  },
  {
   "cell_type": "code",
   "execution_count": null,
   "id": "8f54d12c-cec6-4f0e-bea6-37a9f4a75f89",
   "metadata": {},
   "outputs": [
    {
     "name": "stdout",
     "output_type": "stream",
     "text": [
      "35\n",
      "0\n"
     ]
    }
   ],
   "source": [
    "train_set = CustomDataset(df,rel_sentences=3)"
   ]
  },
  {
   "cell_type": "code",
   "execution_count": null,
   "id": "7a1de38a-97fb-4157-a4a2-159d5bda29e1",
   "metadata": {},
   "outputs": [],
   "source": []
  }
 ],
 "metadata": {
  "kernelspec": {
   "display_name": "Python 3",
   "language": "python",
   "name": "python3"
  },
  "language_info": {
   "codemirror_mode": {
    "name": "ipython",
    "version": 3
   },
   "file_extension": ".py",
   "mimetype": "text/x-python",
   "name": "python",
   "nbconvert_exporter": "python",
   "pygments_lexer": "ipython3",
   "version": "3.8.8"
  }
 },
 "nbformat": 4,
 "nbformat_minor": 5
}
