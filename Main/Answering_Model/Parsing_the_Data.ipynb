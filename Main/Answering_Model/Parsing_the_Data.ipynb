{
 "cells": [
  {
   "cell_type": "markdown",
   "id": "e244db9b-69fd-4535-8711-e939c48ef16d",
   "metadata": {},
   "source": [
    "# Testing Code for the Answer Model"
   ]
  },
  {
   "cell_type": "markdown",
   "id": "eea50074-b435-4d88-a375-46d5b2381f6b",
   "metadata": {},
   "source": [
    "imports"
   ]
  },
  {
   "cell_type": "code",
   "execution_count": 1,
   "id": "a2a13990-8a78-4b35-a84b-ad3620a5ee5e",
   "metadata": {},
   "outputs": [],
   "source": [
    "import numpy as np \n",
    "import pandas as pd\n",
    "import seaborn as sns\n",
    "import matplotlib.pyplot as plt\n",
    "import spacy\n",
    "# from transformers import BertTokenizer"
   ]
  },
  {
   "cell_type": "markdown",
   "id": "0aabf0c7-0005-4b7e-b934-e7ef047dbaad",
   "metadata": {},
   "source": [
    "Getting the Data/Cleaning:"
   ]
  },
  {
   "cell_type": "code",
   "execution_count": 2,
   "id": "75307ac7-eab7-4cca-a8db-cbc756753c29",
   "metadata": {},
   "outputs": [],
   "source": [
    "Answer_File = '../Data/Question_Answer_Dataset_v1.2/S10/question_answer_pairs.txt'"
   ]
  },
  {
   "cell_type": "code",
   "execution_count": 3,
   "id": "3bd22f99-baba-4584-97ee-f27de4c69223",
   "metadata": {},
   "outputs": [],
   "source": [
    "with open(Answer_File,'r',encoding=\"ISO-8859-1\") as f:\n",
    "    Questions = f.read().split('\\n')"
   ]
  },
  {
   "cell_type": "code",
   "execution_count": 4,
   "id": "8a89a56e-8610-4aaf-a109-91e634464bcb",
   "metadata": {},
   "outputs": [],
   "source": [
    "Data = {key:[] for key in Questions[0].split('\\t')}"
   ]
  },
  {
   "cell_type": "code",
   "execution_count": 5,
   "id": "94e9377b-ce3e-4819-bf46-5b4eb549418c",
   "metadata": {},
   "outputs": [],
   "source": [
    "keys = list(Data.keys())"
   ]
  },
  {
   "cell_type": "code",
   "execution_count": 6,
   "id": "15517e84-6aa0-4f75-85af-d50cb814545b",
   "metadata": {},
   "outputs": [],
   "source": [
    "for row in range(1,len(Questions)):\n",
    "    data_point = Questions[row].split('\\t')\n",
    "    if len(data_point)>1:\n",
    "        for i in range(len(data_point)):\n",
    "            Data[keys[i]].append(data_point[i])"
   ]
  },
  {
   "cell_type": "code",
   "execution_count": 7,
   "id": "5796fb4d-70fd-423c-91ba-2f8b93fca650",
   "metadata": {},
   "outputs": [],
   "source": [
    "df = pd.DataFrame(Data)"
   ]
  },
  {
   "cell_type": "code",
   "execution_count": 8,
   "id": "03fd174c-1dde-430e-96c5-040b6dfc2b0c",
   "metadata": {},
   "outputs": [
    {
     "data": {
      "text/html": [
       "<div>\n",
       "<style scoped>\n",
       "    .dataframe tbody tr th:only-of-type {\n",
       "        vertical-align: middle;\n",
       "    }\n",
       "\n",
       "    .dataframe tbody tr th {\n",
       "        vertical-align: top;\n",
       "    }\n",
       "\n",
       "    .dataframe thead th {\n",
       "        text-align: right;\n",
       "    }\n",
       "</style>\n",
       "<table border=\"1\" class=\"dataframe\">\n",
       "  <thead>\n",
       "    <tr style=\"text-align: right;\">\n",
       "      <th></th>\n",
       "      <th>ArticleTitle</th>\n",
       "      <th>Question</th>\n",
       "      <th>Answer</th>\n",
       "      <th>DifficultyFromQuestioner</th>\n",
       "      <th>DifficultyFromAnswerer</th>\n",
       "      <th>ArticleFile</th>\n",
       "    </tr>\n",
       "  </thead>\n",
       "  <tbody>\n",
       "    <tr>\n",
       "      <th>0</th>\n",
       "      <td>Alessandro_Volta</td>\n",
       "      <td>Was Alessandro Volta a professor of chemistry?</td>\n",
       "      <td>Alessandro Volta was not a professor of chemis...</td>\n",
       "      <td>easy</td>\n",
       "      <td>easy</td>\n",
       "      <td>data/set4/a10</td>\n",
       "    </tr>\n",
       "    <tr>\n",
       "      <th>1</th>\n",
       "      <td>Alessandro_Volta</td>\n",
       "      <td>Was Alessandro Volta a professor of chemistry?</td>\n",
       "      <td>No</td>\n",
       "      <td>easy</td>\n",
       "      <td>hard</td>\n",
       "      <td>data/set4/a10</td>\n",
       "    </tr>\n",
       "    <tr>\n",
       "      <th>2</th>\n",
       "      <td>Alessandro_Volta</td>\n",
       "      <td>Did Alessandro Volta invent the remotely opera...</td>\n",
       "      <td>Alessandro Volta did invent the remotely opera...</td>\n",
       "      <td>easy</td>\n",
       "      <td>easy</td>\n",
       "      <td>data/set4/a10</td>\n",
       "    </tr>\n",
       "    <tr>\n",
       "      <th>3</th>\n",
       "      <td>Alessandro_Volta</td>\n",
       "      <td>Did Alessandro Volta invent the remotely opera...</td>\n",
       "      <td>Yes</td>\n",
       "      <td>easy</td>\n",
       "      <td>easy</td>\n",
       "      <td>data/set4/a10</td>\n",
       "    </tr>\n",
       "    <tr>\n",
       "      <th>4</th>\n",
       "      <td>Alessandro_Volta</td>\n",
       "      <td>Was Alessandro Volta taught in public schools?</td>\n",
       "      <td>Volta was taught in public schools.</td>\n",
       "      <td>easy</td>\n",
       "      <td>easy</td>\n",
       "      <td>data/set4/a10</td>\n",
       "    </tr>\n",
       "  </tbody>\n",
       "</table>\n",
       "</div>"
      ],
      "text/plain": [
       "       ArticleTitle                                           Question  \\\n",
       "0  Alessandro_Volta     Was Alessandro Volta a professor of chemistry?   \n",
       "1  Alessandro_Volta     Was Alessandro Volta a professor of chemistry?   \n",
       "2  Alessandro_Volta  Did Alessandro Volta invent the remotely opera...   \n",
       "3  Alessandro_Volta  Did Alessandro Volta invent the remotely opera...   \n",
       "4  Alessandro_Volta     Was Alessandro Volta taught in public schools?   \n",
       "\n",
       "                                              Answer DifficultyFromQuestioner  \\\n",
       "0  Alessandro Volta was not a professor of chemis...                     easy   \n",
       "1                                                 No                     easy   \n",
       "2  Alessandro Volta did invent the remotely opera...                     easy   \n",
       "3                                                Yes                     easy   \n",
       "4                Volta was taught in public schools.                     easy   \n",
       "\n",
       "  DifficultyFromAnswerer    ArticleFile  \n",
       "0                   easy  data/set4/a10  \n",
       "1                   hard  data/set4/a10  \n",
       "2                   easy  data/set4/a10  \n",
       "3                   easy  data/set4/a10  \n",
       "4                   easy  data/set4/a10  "
      ]
     },
     "execution_count": 8,
     "metadata": {},
     "output_type": "execute_result"
    }
   ],
   "source": [
    "df.head()"
   ]
  },
  {
   "cell_type": "markdown",
   "id": "b99fa72d-5e92-405d-b1c3-6402914622c0",
   "metadata": {},
   "source": [
    "## Parsing a text file input"
   ]
  },
  {
   "cell_type": "code",
   "execution_count": 9,
   "id": "62655481-d311-4887-94fb-7f2d06762758",
   "metadata": {},
   "outputs": [],
   "source": [
    "nlp = spacy.load('en_core_web_sm')"
   ]
  },
  {
   "cell_type": "code",
   "execution_count": 10,
   "id": "9fa626aa-f0cb-445f-bf73-eafb4163f1e8",
   "metadata": {},
   "outputs": [],
   "source": [
    "def is_token_allowed(token):\n",
    "    '''\n",
    "        Only allow valid tokens which are not stop words\n",
    "        and punctuation symbols.\n",
    "    '''\n",
    "    if (not token or not str(token).strip() or token.is_stop or token.is_punct):\n",
    "        return False\n",
    "    return True\n",
    "\n",
    "def preprocess_token(token):\n",
    "    # Reduce token to its lowercase lemma form\n",
    "    return token.lemma_.strip().lower()"
   ]
  },
  {
   "cell_type": "markdown",
   "id": "d644ee36-37ec-4e8e-b4e0-ffd07b5ba522",
   "metadata": {},
   "source": [
    "We can now do this for every single input and use these tokens as inputs to our model"
   ]
  },
  {
   "cell_type": "code",
   "execution_count": 11,
   "id": "319eb645-19ed-4a43-ac8b-e8f37692aaad",
   "metadata": {},
   "outputs": [],
   "source": [
    "def Get_Tokens(file_path):\n",
    "    with open('../Data/Question_Answer_Dataset_v1.2/'+'S10/'+file_path+'.txt','r') as g:\n",
    "        text = g.read()\n",
    "    Article = nlp(text)\n",
    "    return Article"
   ]
  },
  {
   "cell_type": "code",
   "execution_count": 12,
   "id": "98dbb1cb",
   "metadata": {},
   "outputs": [],
   "source": [
    "def Get_Token_Sentences(file_path):\n",
    "    with open('../Data/Question_Answer_Dataset_v1.2/'+'S10/'+file_path+'.txt','r') as g:\n",
    "        text = g.read()\n",
    "    Article = nlp(text)\n",
    "    complete_filtered_tokens = [token for token in Article if token]\n",
    "    return complete_filtered_tokens"
   ]
  },
  {
   "cell_type": "code",
   "execution_count": 13,
   "id": "db191556-c8ee-463a-b0cb-90d8d08aae35",
   "metadata": {},
   "outputs": [],
   "source": [
    "from collections import defaultdict\n",
    "\n",
    "Articles = defaultdict(list)\n",
    "\n",
    "for i,path in enumerate(df['ArticleFile']):\n",
    "    if df['ArticleTitle'][i] not in list(Articles.keys()):\n",
    "        Articles[df['ArticleTitle'][i]] = Get_Tokens(path)"
   ]
  },
  {
   "cell_type": "markdown",
   "id": "dcbcfe55-c722-45bf-a182-ee9b6c1d75c9",
   "metadata": {},
   "source": [
    "# Finding Similar Sentences"
   ]
  },
  {
   "cell_type": "code",
   "execution_count": 14,
   "id": "b686457f-2758-4bd5-bde7-16d5aa07fe39",
   "metadata": {},
   "outputs": [],
   "source": [
    "def find_similar_sentences(raw_text,question):\n",
    "    nlp = spacy.load('en_core_web_md')\n",
    "    \n",
    "    # Break the text into sentences\n",
    "    nlp.add_pipe('sentencizer') # updated\n",
    "    \n",
    "    question = nlp(question)\n",
    "    sentences = [sent.text.strip() for sent in raw_text.sents]\n",
    "    highly_similar_sentences = {}\n",
    "    sims = []\n",
    "    for i,sentence in enumerate(sentences):\n",
    "        if sentence == '':\n",
    "            continue\n",
    "        sentence = nlp(sentence)\n",
    "        sentence_no_stop_words = nlp(' '.join([str(t) for t in sentence if not t.is_stop]))\n",
    "        question_no_stop_words = nlp(' '.join([str(t) for t in question if not t.is_stop]))\n",
    "        \n",
    "        sim = sentence_no_stop_words.similarity(question_no_stop_words)\n",
    "        #if sim >= 0.7:\n",
    "            #highly_similar_sentences.update({i:sim})\n",
    "        \n",
    "        sims.append(sim)\n",
    "    highly_similar_sentences.update({np.argmax(sims):np.max(sims)})\n",
    "            \n",
    "    return np.array(sentences)[list(highly_similar_sentences.keys())],highly_similar_sentences\n",
    "\n"
   ]
  },
  {
   "cell_type": "code",
   "execution_count": 15,
   "id": "b494bf63-7a79-46d9-a4ae-1a1d62c492a5",
   "metadata": {},
   "outputs": [
    {
     "data": {
      "text/plain": [
       "1458"
      ]
     },
     "execution_count": 15,
     "metadata": {},
     "output_type": "execute_result"
    }
   ],
   "source": [
    "len(df)"
   ]
  },
  {
   "cell_type": "code",
   "execution_count": 16,
   "id": "b02e8d4b-4231-463d-959f-73a3ae276be5",
   "metadata": {},
   "outputs": [],
   "source": [
    "from collections import defaultdict\n",
    "def get_similar_sentences(df,Articles,length=10):\n",
    "    sol = defaultdict(list)\n",
    "    for i in range(length):\n",
    "        print(i)\n",
    "        similar_sentence, scores = find_similar_sentences(Articles[df.iloc[i]['ArticleTitle']],df.iloc[i]['Question'])\n",
    "        sol['Questions'].append(df.iloc[i]['Question'])\n",
    "        sol['Similar_sentence'].append(similar_sentence)\n",
    "        sol['Similarity_Score'].append(scores)\n",
    "    return sol"
   ]
  },
  {
   "cell_type": "code",
   "execution_count": 17,
   "id": "0b90ac9a-d8ae-4efe-9c8e-827a28228dce",
   "metadata": {},
   "outputs": [
    {
     "name": "stdout",
     "output_type": "stream",
     "text": [
      "0\n"
     ]
    },
    {
     "name": "stderr",
     "output_type": "stream",
     "text": [
      "/var/folders/17/t2prrfnd5c59_l2jy04lgrwm0000gn/T/ipykernel_62646/1903384844.py:18: UserWarning: [W008] Evaluating Doc.similarity based on empty vectors.\n",
      "  sim = sentence_no_stop_words.similarity(question_no_stop_words)\n"
     ]
    },
    {
     "name": "stdout",
     "output_type": "stream",
     "text": [
      "1\n",
      "2\n",
      "3\n",
      "4\n",
      "5\n",
      "6\n",
      "7\n",
      "8\n",
      "9\n"
     ]
    }
   ],
   "source": [
    "sol = get_similar_sentences(df,Articles)"
   ]
  },
  {
   "cell_type": "code",
   "execution_count": 18,
   "id": "4cbdc96f-a827-440c-8470-49aff868388c",
   "metadata": {},
   "outputs": [],
   "source": [
    "df_results = pd.DataFrame(sol)"
   ]
  },
  {
   "cell_type": "code",
   "execution_count": 19,
   "id": "d66f5590-6671-40fe-87d6-2a8ef4a426e4",
   "metadata": {},
   "outputs": [
    {
     "name": "stderr",
     "output_type": "stream",
     "text": [
      "/var/folders/17/t2prrfnd5c59_l2jy04lgrwm0000gn/T/ipykernel_62646/1903384844.py:18: UserWarning: [W008] Evaluating Doc.similarity based on empty vectors.\n",
      "  sim = sentence_no_stop_words.similarity(question_no_stop_words)\n"
     ]
    }
   ],
   "source": [
    "similar_sentence, scores = find_similar_sentences(Articles[df.iloc[4]['ArticleTitle']],df.iloc[4]['Question'])"
   ]
  },
  {
   "cell_type": "code",
   "execution_count": 20,
   "id": "302390b6-6b88-4f32-9123-c959e1b50400",
   "metadata": {},
   "outputs": [
    {
     "data": {
      "text/plain": [
       "array(['Volta was born in Como, Italy and was taught in the public schools there.'],\n",
       "      dtype='<U384')"
      ]
     },
     "execution_count": 20,
     "metadata": {},
     "output_type": "execute_result"
    }
   ],
   "source": [
    "similar_sentence"
   ]
  },
  {
   "cell_type": "code",
   "execution_count": 43,
   "id": "466bc746-7a0b-4fdd-9173-72abe1bddef5",
   "metadata": {},
   "outputs": [
    {
     "data": {
      "text/plain": [
       "{2: 0.8862109755892149, 3: 0.6920588262695283, 4: 0.4340390059526703}"
      ]
     },
     "execution_count": 43,
     "metadata": {},
     "output_type": "execute_result"
    }
   ],
   "source": [
    "scores"
   ]
  },
  {
   "cell_type": "code",
   "execution_count": null,
   "id": "3d6aac55-fa52-4427-9998-36ad754ad9b1",
   "metadata": {},
   "outputs": [],
   "source": []
  },
  {
   "cell_type": "code",
   "execution_count": 19,
   "id": "711120ac-4d98-475b-8ed0-a45e791e2222",
   "metadata": {},
   "outputs": [
    {
     "data": {
      "text/plain": [
       "array(['Volta was born in Como, Italy and was taught in the public schools there.'],\n",
       "      dtype='<U384')"
      ]
     },
     "execution_count": 19,
     "metadata": {},
     "output_type": "execute_result"
    }
   ],
   "source": [
    "df_results.iloc[4]['Similar_sentence']"
   ]
  },
  {
   "cell_type": "code",
   "execution_count": 23,
   "id": "d02e0b76-683b-4de0-b20e-120f58ccd4f6",
   "metadata": {},
   "outputs": [
    {
     "data": {
      "text/plain": [
       "'Was Alessandro Volta taught in public schools?'"
      ]
     },
     "execution_count": 23,
     "metadata": {},
     "output_type": "execute_result"
    }
   ],
   "source": [
    "df_results.iloc[4]['Questions']"
   ]
  },
  {
   "cell_type": "code",
   "execution_count": 21,
   "id": "7ed2cd3a-006a-4b32-808c-6fe50f496a5b",
   "metadata": {},
   "outputs": [
    {
     "data": {
      "text/plain": [
       "array(['*  (\\n\\nAn additional invention pioneered by Volta, was the remotely operated pistol.'],\n",
       "      dtype='<U384')"
      ]
     },
     "execution_count": 21,
     "metadata": {},
     "output_type": "execute_result"
    }
   ],
   "source": [
    "df_results.iloc[2]['Similar_sentence']"
   ]
  },
  {
   "cell_type": "code",
   "execution_count": 22,
   "id": "528545fb-b984-43d1-818c-7bcc061e7371",
   "metadata": {},
   "outputs": [
    {
     "data": {
      "text/html": [
       "<div>\n",
       "<style scoped>\n",
       "    .dataframe tbody tr th:only-of-type {\n",
       "        vertical-align: middle;\n",
       "    }\n",
       "\n",
       "    .dataframe tbody tr th {\n",
       "        vertical-align: top;\n",
       "    }\n",
       "\n",
       "    .dataframe thead th {\n",
       "        text-align: right;\n",
       "    }\n",
       "</style>\n",
       "<table border=\"1\" class=\"dataframe\">\n",
       "  <thead>\n",
       "    <tr style=\"text-align: right;\">\n",
       "      <th></th>\n",
       "      <th>Questions</th>\n",
       "      <th>Similar_sentence</th>\n",
       "      <th>Similarity_Score</th>\n",
       "    </tr>\n",
       "  </thead>\n",
       "  <tbody>\n",
       "    <tr>\n",
       "      <th>0</th>\n",
       "      <td>Was Alessandro Volta a professor of chemistry?</td>\n",
       "      <td>[In 1774 he became a professor of physics at t...</td>\n",
       "      <td>{3: 0.7189053719218323}</td>\n",
       "    </tr>\n",
       "    <tr>\n",
       "      <th>1</th>\n",
       "      <td>Was Alessandro Volta a professor of chemistry?</td>\n",
       "      <td>[In 1774 he became a professor of physics at t...</td>\n",
       "      <td>{3: 0.7189053719218323}</td>\n",
       "    </tr>\n",
       "    <tr>\n",
       "      <th>2</th>\n",
       "      <td>Did Alessandro Volta invent the remotely opera...</td>\n",
       "      <td>[*  (\\n\\nAn additional invention pioneered by ...</td>\n",
       "      <td>{26: 0.6861985771989005}</td>\n",
       "    </tr>\n",
       "    <tr>\n",
       "      <th>3</th>\n",
       "      <td>Did Alessandro Volta invent the remotely opera...</td>\n",
       "      <td>[*  (\\n\\nAn additional invention pioneered by ...</td>\n",
       "      <td>{26: 0.6861985771989005}</td>\n",
       "    </tr>\n",
       "    <tr>\n",
       "      <th>4</th>\n",
       "      <td>Was Alessandro Volta taught in public schools?</td>\n",
       "      <td>[Volta was born in Como, Italy and was taught ...</td>\n",
       "      <td>{2: 0.8862109755892149}</td>\n",
       "    </tr>\n",
       "    <tr>\n",
       "      <th>5</th>\n",
       "      <td>Was Alessandro Volta taught in public schools?</td>\n",
       "      <td>[Volta was born in Como, Italy and was taught ...</td>\n",
       "      <td>{2: 0.8862109755892149}</td>\n",
       "    </tr>\n",
       "    <tr>\n",
       "      <th>6</th>\n",
       "      <td>Who did Alessandro Volta marry?</td>\n",
       "      <td>[In announcing his discovery of the pile, Volt...</td>\n",
       "      <td>{25: 0.6575958942488963}</td>\n",
       "    </tr>\n",
       "    <tr>\n",
       "      <th>7</th>\n",
       "      <td>Who did Alessandro Volta marry?</td>\n",
       "      <td>[In announcing his discovery of the pile, Volt...</td>\n",
       "      <td>{25: 0.6575958942488963}</td>\n",
       "    </tr>\n",
       "    <tr>\n",
       "      <th>8</th>\n",
       "      <td>What did Alessandro Volta invent in 1800?</td>\n",
       "      <td>[A Pioneer in Electrochemistry\\n*  Count Aless...</td>\n",
       "      <td>{63: 0.7280840376233481}</td>\n",
       "    </tr>\n",
       "    <tr>\n",
       "      <th>9</th>\n",
       "      <td>What did Alessandro Volta invent in 1800?</td>\n",
       "      <td>[A Pioneer in Electrochemistry\\n*  Count Aless...</td>\n",
       "      <td>{63: 0.7280840376233481}</td>\n",
       "    </tr>\n",
       "  </tbody>\n",
       "</table>\n",
       "</div>"
      ],
      "text/plain": [
       "                                           Questions  \\\n",
       "0     Was Alessandro Volta a professor of chemistry?   \n",
       "1     Was Alessandro Volta a professor of chemistry?   \n",
       "2  Did Alessandro Volta invent the remotely opera...   \n",
       "3  Did Alessandro Volta invent the remotely opera...   \n",
       "4     Was Alessandro Volta taught in public schools?   \n",
       "5     Was Alessandro Volta taught in public schools?   \n",
       "6                    Who did Alessandro Volta marry?   \n",
       "7                    Who did Alessandro Volta marry?   \n",
       "8          What did Alessandro Volta invent in 1800?   \n",
       "9          What did Alessandro Volta invent in 1800?   \n",
       "\n",
       "                                    Similar_sentence          Similarity_Score  \n",
       "0  [In 1774 he became a professor of physics at t...   {3: 0.7189053719218323}  \n",
       "1  [In 1774 he became a professor of physics at t...   {3: 0.7189053719218323}  \n",
       "2  [*  (\\n\\nAn additional invention pioneered by ...  {26: 0.6861985771989005}  \n",
       "3  [*  (\\n\\nAn additional invention pioneered by ...  {26: 0.6861985771989005}  \n",
       "4  [Volta was born in Como, Italy and was taught ...   {2: 0.8862109755892149}  \n",
       "5  [Volta was born in Como, Italy and was taught ...   {2: 0.8862109755892149}  \n",
       "6  [In announcing his discovery of the pile, Volt...  {25: 0.6575958942488963}  \n",
       "7  [In announcing his discovery of the pile, Volt...  {25: 0.6575958942488963}  \n",
       "8  [A Pioneer in Electrochemistry\\n*  Count Aless...  {63: 0.7280840376233481}  \n",
       "9  [A Pioneer in Electrochemistry\\n*  Count Aless...  {63: 0.7280840376233481}  "
      ]
     },
     "execution_count": 22,
     "metadata": {},
     "output_type": "execute_result"
    }
   ],
   "source": [
    "df_results"
   ]
  },
  {
   "cell_type": "code",
   "execution_count": 19,
   "id": "9accb1ec-d145-4218-841c-1c352d40404e",
   "metadata": {},
   "outputs": [],
   "source": [
    "#!pip install --upgrade tensorflow_hub\n",
    "\n",
    "import tensorflow_hub as hub"
   ]
  },
  {
   "cell_type": "code",
   "execution_count": 20,
   "id": "0c87c67b-c67a-46ed-a4a3-f0db4ac77a49",
   "metadata": {},
   "outputs": [],
   "source": [
    "from transformers import BertForQuestionAnswering, AutoTokenizer\n",
    "\n",
    "modelname = 'deepset/bert-base-cased-squad2'\n",
    "\n",
    "model = BertForQuestionAnswering.from_pretrained(modelname)\n",
    "tokenizer = AutoTokenizer.from_pretrained(modelname)"
   ]
  },
  {
   "cell_type": "code",
   "execution_count": 25,
   "id": "26c0950b-f700-4749-ac3f-33bf478b42db",
   "metadata": {},
   "outputs": [],
   "source": [
    "from transformers import pipeline\n",
    "nlp_bert = pipeline('question-answering', model=model, tokenizer=tokenizer)"
   ]
  },
  {
   "cell_type": "code",
   "execution_count": 28,
   "id": "8a02bfe3-9715-4da2-b313-caef59f156e1",
   "metadata": {},
   "outputs": [
    {
     "data": {
      "text/plain": [
       "{'score': 0.48815828561782837,\n",
       " 'start': 118,\n",
       " 'end': 132,\n",
       " 'answer': 'United Nations'}"
      ]
     },
     "execution_count": 28,
     "metadata": {},
     "output_type": "execute_result"
    }
   ],
   "source": [
    "context = \"The Intergovernmental Panel on Climate Change (IPCC) is a scientific intergovernmental body under the auspices of the United Nations, set up at the request of member governments. It was first established in 1988 by two United Nations organizations, the World Meteorological Organization (WMO) and the United Nations Environment Programme (UNEP), and later endorsed by the United Nations General Assembly through Resolution 43/53. Membership of the IPCC is open to all members of the WMO and UNEP. The IPCC produces reports that support the United Nations Framework Convention on Climate Change (UNFCCC), which is the main international treaty on climate change. The ultimate objective of the UNFCCC is to \\\"stabilize greenhouse gas concentrations in the atmosphere at a level that would prevent dangerous anthropogenic [i.e., human-induced] interference with the climate system\\\". IPCC reports cover \\\"the scientific, technical and socio-economic information relevant to understanding the scientific basis of risk of human-induced climate change, its potential impacts and options for adaptation and mitigation.\\\"\"\n",
    "\n",
    "nlp_bert({\n",
    "    'question': 'What organization is the IPCC a part of?',\n",
    "    'context': context\n",
    "})"
   ]
  },
  {
   "cell_type": "code",
   "execution_count": 39,
   "id": "48331631-b0ff-40c7-a514-cc32f031f416",
   "metadata": {},
   "outputs": [
    {
     "data": {
      "text/plain": [
       "{'score': 0.05283139646053314, 'start': 3368, 'end': 3369, 'answer': '*'}"
      ]
     },
     "execution_count": 39,
     "metadata": {},
     "output_type": "execute_result"
    }
   ],
   "source": [
    "nlp = spacy.load('en_core_web_md')\n",
    "    \n",
    "# Break the text into sentences\n",
    "nlp.add_pipe('sentencizer') # updated\n",
    "\n",
    "context = Articles[df.iloc[2]['ArticleTitle']]\n",
    "question = df.iloc[2]['Question']\n",
    "\n",
    "nlp_bert({'question':str(question),'context':str(context)})"
   ]
  },
  {
   "cell_type": "code",
   "execution_count": 40,
   "id": "922c1a12-3b03-4574-9b81-1a6170dbaabd",
   "metadata": {},
   "outputs": [
    {
     "data": {
      "text/plain": [
       "'Did Alessandro Volta invent the remotely operated pistol?'"
      ]
     },
     "execution_count": 40,
     "metadata": {},
     "output_type": "execute_result"
    }
   ],
   "source": [
    "df.iloc[2]['Question']"
   ]
  },
  {
   "cell_type": "code",
   "execution_count": null,
   "id": "9bac9688-2d25-46a6-8644-94cad4b9a13b",
   "metadata": {},
   "outputs": [],
   "source": []
  },
  {
   "cell_type": "code",
   "execution_count": null,
   "id": "bbffcf7c-e33d-4a8c-97c4-6fba03864f8a",
   "metadata": {},
   "outputs": [],
   "source": []
  },
  {
   "cell_type": "code",
   "execution_count": null,
   "id": "f9a4f60c-5454-42db-9d50-3da989e21f19",
   "metadata": {},
   "outputs": [],
   "source": []
  },
  {
   "cell_type": "code",
   "execution_count": null,
   "id": "a54b5c08-42f3-42fb-8515-6d6f9e4b2a13",
   "metadata": {},
   "outputs": [],
   "source": []
  },
  {
   "cell_type": "code",
   "execution_count": null,
   "id": "fde026f0-e077-4bdf-9201-39c1e3b24ad2",
   "metadata": {},
   "outputs": [],
   "source": []
  },
  {
   "cell_type": "code",
   "execution_count": null,
   "id": "551885cf-9c03-479f-9b5c-fa4d72c28aca",
   "metadata": {},
   "outputs": [],
   "source": []
  },
  {
   "cell_type": "code",
   "execution_count": null,
   "id": "868fd0e3-19d1-4bc3-a7ef-9fc16f10e970",
   "metadata": {},
   "outputs": [],
   "source": []
  },
  {
   "cell_type": "code",
   "execution_count": 44,
   "id": "f8074029-17c4-4885-8239-e82bef12f12f",
   "metadata": {},
   "outputs": [
    {
     "data": {
      "text/plain": [
       "{'score': 0.004538378212600946,\n",
       " 'start': 0,\n",
       " 'end': 48,\n",
       " 'answer': '*  (\\n\\nAn additional invention pioneered by Volta'}"
      ]
     },
     "execution_count": 44,
     "metadata": {},
     "output_type": "execute_result"
    }
   ],
   "source": [
    "nlp = spacy.load('en_core_web_md')\n",
    "    \n",
    "# Break the text into sentences\n",
    "nlp.add_pipe('sentencizer') # updated\n",
    "\n",
    "context = Articles[df.iloc[2]['ArticleTitle']]\n",
    "question = df.iloc[2]['Question']\n",
    "\n",
    "nlp_bert({'question':str(question),'context':similar_sentences[0]})"
   ]
  },
  {
   "cell_type": "code",
   "execution_count": 41,
   "id": "fb7a0893-d330-4c5f-919a-b3c8e4603c78",
   "metadata": {},
   "outputs": [
    {
     "name": "stderr",
     "output_type": "stream",
     "text": [
      "<ipython-input-14-b94e6a2bd83c>:16: UserWarning: [W008] Evaluating Doc.similarity based on empty vectors.\n",
      "  sim = sentence_no_stop_words.similarity(question_no_stop_words)\n"
     ]
    }
   ],
   "source": [
    "similar_sentences, scores = find_similar_sentences(Articles[df.iloc[2]['ArticleTitle']],df.iloc[2]['Question'])"
   ]
  },
  {
   "cell_type": "code",
   "execution_count": 42,
   "id": "3a01532a-1ba3-4288-a2aa-95ca42c3028f",
   "metadata": {},
   "outputs": [
    {
     "data": {
      "text/plain": [
       "'*  (\\n\\nAn additional invention pioneered by Volta, was the remotely operated pistol.'"
      ]
     },
     "execution_count": 42,
     "metadata": {},
     "output_type": "execute_result"
    }
   ],
   "source": [
    "similar_sentences[0]"
   ]
  },
  {
   "cell_type": "code",
   "execution_count": null,
   "id": "a701df58-3f06-46a9-b72f-cbd93e53cb16",
   "metadata": {},
   "outputs": [],
   "source": []
  },
  {
   "cell_type": "code",
   "execution_count": null,
   "id": "ef7aeb01-fe45-42e0-9532-856a0f80895f",
   "metadata": {},
   "outputs": [],
   "source": []
  },
  {
   "cell_type": "code",
   "execution_count": 18,
   "id": "1078297b-e9cc-4ec1-ad24-b1b5775e2436",
   "metadata": {},
   "outputs": [
    {
     "data": {
      "text/plain": [
       "'Alessandro Volta was not a professor of chemistry.'"
      ]
     },
     "execution_count": 18,
     "metadata": {},
     "output_type": "execute_result"
    }
   ],
   "source": [
    "df.iloc[0]['Answer']"
   ]
  },
  {
   "cell_type": "code",
   "execution_count": 20,
   "id": "3f2ed938-172e-4913-9913-5cbd501f0c4c",
   "metadata": {},
   "outputs": [],
   "source": [
    "text = nlp('professor of physics')"
   ]
  },
  {
   "cell_type": "code",
   "execution_count": 21,
   "id": "94cd8c3a-8c38-4cad-a264-e512dfd2097d",
   "metadata": {},
   "outputs": [],
   "source": [
    "question = nlp('professor of chemistry')"
   ]
  },
  {
   "cell_type": "code",
   "execution_count": 22,
   "id": "2d1295f1-9e00-400e-89f5-606f03ec62e3",
   "metadata": {},
   "outputs": [
    {
     "name": "stderr",
     "output_type": "stream",
     "text": [
      "<ipython-input-22-06c0870b4405>:1: UserWarning: [W007] The model you're using has no word vectors loaded, so the result of the Doc.similarity method will be based on the tagger, parser and NER, which may not give useful similarity judgements. This may happen if you're using one of the small models, e.g. `en_core_web_sm`, which don't ship with word vectors and only use context-sensitive tensors. You can always add your own word vectors, or use one of the larger models instead if available.\n",
      "  text.similarity(question)\n"
     ]
    },
    {
     "data": {
      "text/plain": [
       "0.9140061561511593"
      ]
     },
     "execution_count": 22,
     "metadata": {},
     "output_type": "execute_result"
    }
   ],
   "source": [
    "text.similarity(question)"
   ]
  },
  {
   "cell_type": "code",
   "execution_count": 24,
   "id": "3f687985-93ad-4e57-87fb-13ecdca85827",
   "metadata": {},
   "outputs": [
    {
     "data": {
      "text/plain": [
       "1.0"
      ]
     },
     "execution_count": 24,
     "metadata": {},
     "output_type": "execute_result"
    }
   ],
   "source": [
    "question.similarity(nlp('proffesor of chemistry'))"
   ]
  },
  {
   "cell_type": "code",
   "execution_count": null,
   "id": "c0a0e89c-31a6-48d9-99b1-2dc66e82d57d",
   "metadata": {},
   "outputs": [],
   "source": []
  }
 ],
 "metadata": {
  "kernelspec": {
   "display_name": "Python 3 (ipykernel)",
   "language": "python",
   "name": "python3"
  },
  "language_info": {
   "codemirror_mode": {
    "name": "ipython",
    "version": 3
   },
   "file_extension": ".py",
   "mimetype": "text/x-python",
   "name": "python",
   "nbconvert_exporter": "python",
   "pygments_lexer": "ipython3",
   "version": "3.9.1"
  }
 },
 "nbformat": 4,
 "nbformat_minor": 5
}
