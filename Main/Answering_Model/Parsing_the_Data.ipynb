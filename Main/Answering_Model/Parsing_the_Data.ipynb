{
 "cells": [
  {
   "cell_type": "markdown",
   "id": "e244db9b-69fd-4535-8711-e939c48ef16d",
   "metadata": {},
   "source": [
    "# Testing Code for the Answer Model"
   ]
  },
  {
   "cell_type": "markdown",
   "id": "eea50074-b435-4d88-a375-46d5b2381f6b",
   "metadata": {},
   "source": [
    "imports"
   ]
  },
  {
   "cell_type": "code",
   "execution_count": 2,
   "id": "a2a13990-8a78-4b35-a84b-ad3620a5ee5e",
   "metadata": {},
   "outputs": [],
   "source": [
    "import numpy as np \n",
    "import pandas as pd\n",
    "import seaborn as sns\n",
    "import matplotlib.pyplot as plt\n",
    "import spacy\n",
    "# from transformers import BertTokenizer"
   ]
  },
  {
   "cell_type": "markdown",
   "id": "0aabf0c7-0005-4b7e-b934-e7ef047dbaad",
   "metadata": {},
   "source": [
    "Getting the Data/Cleaning:"
   ]
  },
  {
   "cell_type": "code",
   "execution_count": 18,
   "id": "75307ac7-eab7-4cca-a8db-cbc756753c29",
   "metadata": {},
   "outputs": [],
   "source": [
    "Answer_File = '../Data/Question_Answer_Dataset_v1.2/S10/question_answer_pairs.txt'"
   ]
  },
  {
   "cell_type": "code",
   "execution_count": 19,
   "id": "3bd22f99-baba-4584-97ee-f27de4c69223",
   "metadata": {},
   "outputs": [],
   "source": [
    "with open(Answer_File,'r',encoding=\"ISO-8859-1\") as f:\n",
    "    Questions = f.read().split('\\n')"
   ]
  },
  {
   "cell_type": "code",
   "execution_count": 20,
   "id": "8a89a56e-8610-4aaf-a109-91e634464bcb",
   "metadata": {},
   "outputs": [],
   "source": [
    "Data = {key:[] for key in Questions[0].split('\\t')}"
   ]
  },
  {
   "cell_type": "code",
   "execution_count": 21,
   "id": "94e9377b-ce3e-4819-bf46-5b4eb549418c",
   "metadata": {},
   "outputs": [],
   "source": [
    "keys = list(Data.keys())"
   ]
  },
  {
   "cell_type": "code",
   "execution_count": 22,
   "id": "15517e84-6aa0-4f75-85af-d50cb814545b",
   "metadata": {},
   "outputs": [],
   "source": [
    "for row in range(1,len(Questions)):\n",
    "    data_point = Questions[row].split('\\t')\n",
    "    if len(data_point)>1:\n",
    "        for i in range(len(data_point)):\n",
    "            Data[keys[i]].append(data_point[i])"
   ]
  },
  {
   "cell_type": "code",
   "execution_count": 23,
   "id": "5796fb4d-70fd-423c-91ba-2f8b93fca650",
   "metadata": {},
   "outputs": [],
   "source": [
    "df = pd.DataFrame(Data)"
   ]
  },
  {
   "cell_type": "code",
   "execution_count": 24,
   "id": "03fd174c-1dde-430e-96c5-040b6dfc2b0c",
   "metadata": {},
   "outputs": [
    {
     "data": {
      "text/html": [
       "<div>\n",
       "<style scoped>\n",
       "    .dataframe tbody tr th:only-of-type {\n",
       "        vertical-align: middle;\n",
       "    }\n",
       "\n",
       "    .dataframe tbody tr th {\n",
       "        vertical-align: top;\n",
       "    }\n",
       "\n",
       "    .dataframe thead th {\n",
       "        text-align: right;\n",
       "    }\n",
       "</style>\n",
       "<table border=\"1\" class=\"dataframe\">\n",
       "  <thead>\n",
       "    <tr style=\"text-align: right;\">\n",
       "      <th></th>\n",
       "      <th>ArticleTitle</th>\n",
       "      <th>Question</th>\n",
       "      <th>Answer</th>\n",
       "      <th>DifficultyFromQuestioner</th>\n",
       "      <th>DifficultyFromAnswerer</th>\n",
       "      <th>ArticleFile</th>\n",
       "    </tr>\n",
       "  </thead>\n",
       "  <tbody>\n",
       "    <tr>\n",
       "      <th>0</th>\n",
       "      <td>Alessandro_Volta</td>\n",
       "      <td>Was Alessandro Volta a professor of chemistry?</td>\n",
       "      <td>Alessandro Volta was not a professor of chemis...</td>\n",
       "      <td>easy</td>\n",
       "      <td>easy</td>\n",
       "      <td>data/set4/a10</td>\n",
       "    </tr>\n",
       "    <tr>\n",
       "      <th>1</th>\n",
       "      <td>Alessandro_Volta</td>\n",
       "      <td>Was Alessandro Volta a professor of chemistry?</td>\n",
       "      <td>No</td>\n",
       "      <td>easy</td>\n",
       "      <td>hard</td>\n",
       "      <td>data/set4/a10</td>\n",
       "    </tr>\n",
       "    <tr>\n",
       "      <th>2</th>\n",
       "      <td>Alessandro_Volta</td>\n",
       "      <td>Did Alessandro Volta invent the remotely opera...</td>\n",
       "      <td>Alessandro Volta did invent the remotely opera...</td>\n",
       "      <td>easy</td>\n",
       "      <td>easy</td>\n",
       "      <td>data/set4/a10</td>\n",
       "    </tr>\n",
       "    <tr>\n",
       "      <th>3</th>\n",
       "      <td>Alessandro_Volta</td>\n",
       "      <td>Did Alessandro Volta invent the remotely opera...</td>\n",
       "      <td>Yes</td>\n",
       "      <td>easy</td>\n",
       "      <td>easy</td>\n",
       "      <td>data/set4/a10</td>\n",
       "    </tr>\n",
       "    <tr>\n",
       "      <th>4</th>\n",
       "      <td>Alessandro_Volta</td>\n",
       "      <td>Was Alessandro Volta taught in public schools?</td>\n",
       "      <td>Volta was taught in public schools.</td>\n",
       "      <td>easy</td>\n",
       "      <td>easy</td>\n",
       "      <td>data/set4/a10</td>\n",
       "    </tr>\n",
       "  </tbody>\n",
       "</table>\n",
       "</div>"
      ],
      "text/plain": [
       "       ArticleTitle                                           Question  \\\n",
       "0  Alessandro_Volta     Was Alessandro Volta a professor of chemistry?   \n",
       "1  Alessandro_Volta     Was Alessandro Volta a professor of chemistry?   \n",
       "2  Alessandro_Volta  Did Alessandro Volta invent the remotely opera...   \n",
       "3  Alessandro_Volta  Did Alessandro Volta invent the remotely opera...   \n",
       "4  Alessandro_Volta     Was Alessandro Volta taught in public schools?   \n",
       "\n",
       "                                              Answer DifficultyFromQuestioner  \\\n",
       "0  Alessandro Volta was not a professor of chemis...                     easy   \n",
       "1                                                 No                     easy   \n",
       "2  Alessandro Volta did invent the remotely opera...                     easy   \n",
       "3                                                Yes                     easy   \n",
       "4                Volta was taught in public schools.                     easy   \n",
       "\n",
       "  DifficultyFromAnswerer    ArticleFile  \n",
       "0                   easy  data/set4/a10  \n",
       "1                   hard  data/set4/a10  \n",
       "2                   easy  data/set4/a10  \n",
       "3                   easy  data/set4/a10  \n",
       "4                   easy  data/set4/a10  "
      ]
     },
     "execution_count": 24,
     "metadata": {},
     "output_type": "execute_result"
    }
   ],
   "source": [
    "df.head()"
   ]
  },
  {
   "cell_type": "markdown",
   "id": "b99fa72d-5e92-405d-b1c3-6402914622c0",
   "metadata": {},
   "source": [
    "## Parsing a text file input"
   ]
  },
  {
   "cell_type": "code",
   "execution_count": 25,
   "id": "62655481-d311-4887-94fb-7f2d06762758",
   "metadata": {},
   "outputs": [],
   "source": [
    "nlp = spacy.load('en_core_web_sm')"
   ]
  },
  {
   "cell_type": "code",
   "execution_count": 26,
   "id": "9fa626aa-f0cb-445f-bf73-eafb4163f1e8",
   "metadata": {},
   "outputs": [],
   "source": [
    "def is_token_allowed(token):\n",
    "    '''\n",
    "        Only allow valid tokens which are not stop words\n",
    "        and punctuation symbols.\n",
    "    '''\n",
    "    if (not token or not str(token).strip() or token.is_stop or token.is_punct):\n",
    "        return False\n",
    "    return True\n",
    "\n",
    "def preprocess_token(token):\n",
    "    # Reduce token to its lowercase lemma form\n",
    "    return token.lemma_.strip().lower()"
   ]
  },
  {
   "cell_type": "markdown",
   "id": "d644ee36-37ec-4e8e-b4e0-ffd07b5ba522",
   "metadata": {},
   "source": [
    "We can now do this for every single input and use these tokens as inputs to our model"
   ]
  },
  {
   "cell_type": "code",
   "execution_count": 42,
   "id": "319eb645-19ed-4a43-ac8b-e8f37692aaad",
   "metadata": {},
   "outputs": [],
   "source": [
    "def Get_Tokens(file_path):\n",
    "    with open('../Data/Question_Answer_Dataset_v1.2/'+'S10/'+file_path+'.txt','r') as g:\n",
    "        text = g.read()\n",
    "    Article = nlp(text)\n",
    "    return Article\n",
    "#     complete_filtered_tokens = [preprocess_token(token) for token in Article if is_token_allowed(token)]\n",
    "#     return complete_filtered_tokens"
   ]
  },
  {
   "cell_type": "code",
   "execution_count": 37,
   "id": "98dbb1cb",
   "metadata": {},
   "outputs": [],
   "source": [
    "def Get_Token_Sentences(file_path):\n",
    "    with open('../Data/Question_Answer_Dataset_v1.2/'+'S10/'+file_path+'.txt','r') as g:\n",
    "        text = g.read()\n",
    "    Article = nlp(text)\n",
    "    complete_filtered_tokens = [token for token in Article if token]\n",
    "    return complete_filtered_tokens"
   ]
  },
  {
   "cell_type": "code",
   "execution_count": null,
   "id": "db191556-c8ee-463a-b0cb-90d8d08aae35",
   "metadata": {},
   "outputs": [],
   "source": [
    "from collections import defaultdict\n",
    "\n",
    "Articles = defaultdict(list)\n",
    "\n",
    "for i,path in enumerate(df['ArticleFile']):\n",
    "    if df['ArticleTitle'][i] not in list(Articles.keys()):\n",
    "        Articles[df['ArticleTitle'][i]] = Get_Tokens(path)"
   ]
  },
  {
   "cell_type": "markdown",
   "id": "dcbcfe55-c722-45bf-a182-ee9b6c1d75c9",
   "metadata": {},
   "source": [
    "# Finding Similar Sentences"
   ]
  },
  {
   "cell_type": "code",
   "execution_count": 89,
   "id": "b686457f-2758-4bd5-bde7-16d5aa07fe39",
   "metadata": {},
   "outputs": [],
   "source": [
    "def find_similar_sentences(raw_text,question):\n",
    "    nlp = spacy.load('en_core_web_md')\n",
    "    \n",
    "    # Break the text into sentences\n",
    "    nlp.add_pipe('sentencizer') # updated\n",
    "    \n",
    "    question = nlp(question)\n",
    "    sentences = [sent.text.strip() for sent in raw_text.sents]\n",
    "    highly_similar_sentences = {}\n",
    "    for i,sentence in enumerate(sentences):\n",
    "        sentence = nlp(sentence)\n",
    "        sentence_no_stop_words = nlp(' '.join([str(t) for t in sentence if not t.is_stop]))\n",
    "        question_no_stop_words = nlp(' '.join([str(t) for t in question if not t.is_stop]))\n",
    "        \n",
    "        sim = sentence_no_stop_words.similarity(question_no_stop_words)\n",
    "        if sim >= 0.7:\n",
    "            highly_similar_sentences.update({i:sim})\n",
    "            \n",
    "    return np.array(sentences)[list(highly_similar_sentences.keys())],highly_similar_sentences\n",
    "\n"
   ]
  },
  {
   "cell_type": "code",
   "execution_count": 90,
   "id": "b02e8d4b-4231-463d-959f-73a3ae276be5",
   "metadata": {},
   "outputs": [
    {
     "data": {
      "text/plain": [
       "'Was Alessandro Volta a professor of chemistry?'"
      ]
     },
     "execution_count": 90,
     "metadata": {},
     "output_type": "execute_result"
    }
   ],
   "source": [
    "df.iloc[0]['Question']"
   ]
  },
  {
   "cell_type": "code",
   "execution_count": 91,
   "id": "fb7a0893-d330-4c5f-919a-b3c8e4603c78",
   "metadata": {},
   "outputs": [
    {
     "name": "stderr",
     "output_type": "stream",
     "text": [
      "<ipython-input-89-5aed2303a576>:15: UserWarning: [W008] Evaluating Doc.similarity based on empty vectors.\n",
      "  sim = sentence_no_stop_words.similarity(question_no_stop_words)\n"
     ]
    }
   ],
   "source": [
    "similar_sentences, scores = find_similar_sentences(Articles[df.iloc[0]['ArticleTitle']],df.iloc[0]['Question'])"
   ]
  },
  {
   "cell_type": "code",
   "execution_count": 94,
   "id": "3a01532a-1ba3-4288-a2aa-95ca42c3028f",
   "metadata": {},
   "outputs": [
    {
     "data": {
      "text/plain": [
       "array(['In 1774 he became a professor of physics at the Royal School in Como.'],\n",
       "      dtype='<U384')"
      ]
     },
     "execution_count": 94,
     "metadata": {},
     "output_type": "execute_result"
    }
   ],
   "source": [
    "similar_sentences"
   ]
  },
  {
   "cell_type": "code",
   "execution_count": 88,
   "id": "1078297b-e9cc-4ec1-ad24-b1b5775e2436",
   "metadata": {},
   "outputs": [
    {
     "data": {
      "text/plain": [
       "'Alessandro Volta was not a professor of chemistry.'"
      ]
     },
     "execution_count": 88,
     "metadata": {},
     "output_type": "execute_result"
    }
   ],
   "source": [
    "df.iloc[0]['Answer']"
   ]
  }
 ],
 "metadata": {
  "kernelspec": {
   "display_name": "Python 3",
   "language": "python",
   "name": "python3"
  },
  "language_info": {
   "codemirror_mode": {
    "name": "ipython",
    "version": 3
   },
   "file_extension": ".py",
   "mimetype": "text/x-python",
   "name": "python",
   "nbconvert_exporter": "python",
   "pygments_lexer": "ipython3",
   "version": "3.8.8"
  }
 },
 "nbformat": 4,
 "nbformat_minor": 5
}
