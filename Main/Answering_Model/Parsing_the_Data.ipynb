{
 "cells": [
  {
   "cell_type": "markdown",
   "id": "e244db9b-69fd-4535-8711-e939c48ef16d",
   "metadata": {},
   "source": [
    "# Testing Code for the Answer Model"
   ]
  },
  {
   "cell_type": "markdown",
   "id": "eea50074-b435-4d88-a375-46d5b2381f6b",
   "metadata": {},
   "source": [
    "imports"
   ]
  },
  {
   "cell_type": "code",
   "execution_count": 1,
   "id": "a2a13990-8a78-4b35-a84b-ad3620a5ee5e",
   "metadata": {},
   "outputs": [],
   "source": [
    "import numpy as np \n",
    "import pandas as pd\n",
    "import seaborn as sns\n",
    "import matplotlib.pyplot as plt\n",
    "import spacy"
   ]
  },
  {
   "cell_type": "markdown",
   "id": "0aabf0c7-0005-4b7e-b934-e7ef047dbaad",
   "metadata": {},
   "source": [
    "Getting the Data/Cleaning:"
   ]
  },
  {
   "cell_type": "code",
   "execution_count": 2,
   "id": "75307ac7-eab7-4cca-a8db-cbc756753c29",
   "metadata": {},
   "outputs": [],
   "source": [
    "Answer_File = '../Data/Question_Answer_Dataset_v1.2/S10/question_answer_pairs.txt'"
   ]
  },
  {
   "cell_type": "code",
   "execution_count": 3,
   "id": "3bd22f99-baba-4584-97ee-f27de4c69223",
   "metadata": {},
   "outputs": [],
   "source": [
    "with open(Answer_File,'r',encoding=\"ISO-8859-1\") as f:\n",
    "    Questions = f.read().split('\\n')"
   ]
  },
  {
   "cell_type": "code",
   "execution_count": 4,
   "id": "8a89a56e-8610-4aaf-a109-91e634464bcb",
   "metadata": {},
   "outputs": [],
   "source": [
    "Data = {key:[] for key in Questions[0].split('\\t')}"
   ]
  },
  {
   "cell_type": "code",
   "execution_count": 5,
   "id": "94e9377b-ce3e-4819-bf46-5b4eb549418c",
   "metadata": {},
   "outputs": [],
   "source": [
    "keys = list(Data.keys())"
   ]
  },
  {
   "cell_type": "code",
   "execution_count": 6,
   "id": "15517e84-6aa0-4f75-85af-d50cb814545b",
   "metadata": {},
   "outputs": [],
   "source": [
    "for row in range(1,len(Questions)):\n",
    "    data_point = Questions[row].split('\\t')\n",
    "    if len(data_point)>1:\n",
    "        for i in range(len(data_point)):\n",
    "            Data[keys[i]].append(data_point[i])"
   ]
  },
  {
   "cell_type": "code",
   "execution_count": 7,
   "id": "5796fb4d-70fd-423c-91ba-2f8b93fca650",
   "metadata": {},
   "outputs": [],
   "source": [
    "df = pd.DataFrame(Data)"
   ]
  },
  {
   "cell_type": "code",
   "execution_count": 8,
   "id": "03fd174c-1dde-430e-96c5-040b6dfc2b0c",
   "metadata": {},
   "outputs": [
    {
     "data": {
      "text/html": [
       "<div>\n",
       "<style scoped>\n",
       "    .dataframe tbody tr th:only-of-type {\n",
       "        vertical-align: middle;\n",
       "    }\n",
       "\n",
       "    .dataframe tbody tr th {\n",
       "        vertical-align: top;\n",
       "    }\n",
       "\n",
       "    .dataframe thead th {\n",
       "        text-align: right;\n",
       "    }\n",
       "</style>\n",
       "<table border=\"1\" class=\"dataframe\">\n",
       "  <thead>\n",
       "    <tr style=\"text-align: right;\">\n",
       "      <th></th>\n",
       "      <th>ArticleTitle</th>\n",
       "      <th>Question</th>\n",
       "      <th>Answer</th>\n",
       "      <th>DifficultyFromQuestioner</th>\n",
       "      <th>DifficultyFromAnswerer</th>\n",
       "      <th>ArticleFile</th>\n",
       "    </tr>\n",
       "  </thead>\n",
       "  <tbody>\n",
       "    <tr>\n",
       "      <th>0</th>\n",
       "      <td>Alessandro_Volta</td>\n",
       "      <td>Was Alessandro Volta a professor of chemistry?</td>\n",
       "      <td>Alessandro Volta was not a professor of chemis...</td>\n",
       "      <td>easy</td>\n",
       "      <td>easy</td>\n",
       "      <td>data/set4/a10</td>\n",
       "    </tr>\n",
       "    <tr>\n",
       "      <th>1</th>\n",
       "      <td>Alessandro_Volta</td>\n",
       "      <td>Was Alessandro Volta a professor of chemistry?</td>\n",
       "      <td>No</td>\n",
       "      <td>easy</td>\n",
       "      <td>hard</td>\n",
       "      <td>data/set4/a10</td>\n",
       "    </tr>\n",
       "    <tr>\n",
       "      <th>2</th>\n",
       "      <td>Alessandro_Volta</td>\n",
       "      <td>Did Alessandro Volta invent the remotely opera...</td>\n",
       "      <td>Alessandro Volta did invent the remotely opera...</td>\n",
       "      <td>easy</td>\n",
       "      <td>easy</td>\n",
       "      <td>data/set4/a10</td>\n",
       "    </tr>\n",
       "    <tr>\n",
       "      <th>3</th>\n",
       "      <td>Alessandro_Volta</td>\n",
       "      <td>Did Alessandro Volta invent the remotely opera...</td>\n",
       "      <td>Yes</td>\n",
       "      <td>easy</td>\n",
       "      <td>easy</td>\n",
       "      <td>data/set4/a10</td>\n",
       "    </tr>\n",
       "    <tr>\n",
       "      <th>4</th>\n",
       "      <td>Alessandro_Volta</td>\n",
       "      <td>Was Alessandro Volta taught in public schools?</td>\n",
       "      <td>Volta was taught in public schools.</td>\n",
       "      <td>easy</td>\n",
       "      <td>easy</td>\n",
       "      <td>data/set4/a10</td>\n",
       "    </tr>\n",
       "  </tbody>\n",
       "</table>\n",
       "</div>"
      ],
      "text/plain": [
       "       ArticleTitle                                           Question  \\\n",
       "0  Alessandro_Volta     Was Alessandro Volta a professor of chemistry?   \n",
       "1  Alessandro_Volta     Was Alessandro Volta a professor of chemistry?   \n",
       "2  Alessandro_Volta  Did Alessandro Volta invent the remotely opera...   \n",
       "3  Alessandro_Volta  Did Alessandro Volta invent the remotely opera...   \n",
       "4  Alessandro_Volta     Was Alessandro Volta taught in public schools?   \n",
       "\n",
       "                                              Answer DifficultyFromQuestioner  \\\n",
       "0  Alessandro Volta was not a professor of chemis...                     easy   \n",
       "1                                                 No                     easy   \n",
       "2  Alessandro Volta did invent the remotely opera...                     easy   \n",
       "3                                                Yes                     easy   \n",
       "4                Volta was taught in public schools.                     easy   \n",
       "\n",
       "  DifficultyFromAnswerer    ArticleFile  \n",
       "0                   easy  data/set4/a10  \n",
       "1                   hard  data/set4/a10  \n",
       "2                   easy  data/set4/a10  \n",
       "3                   easy  data/set4/a10  \n",
       "4                   easy  data/set4/a10  "
      ]
     },
     "execution_count": 8,
     "metadata": {},
     "output_type": "execute_result"
    }
   ],
   "source": [
    "df.head()"
   ]
  },
  {
   "cell_type": "code",
   "execution_count": 9,
   "id": "bad11920-4f51-4d70-8305-73fbd2690800",
   "metadata": {},
   "outputs": [
    {
     "data": {
      "text/plain": [
       "'/Users/Denny/Desktop/Natural Language Processing/Question_Answer_Model/Main/Answering_Model'"
      ]
     },
     "execution_count": 9,
     "metadata": {},
     "output_type": "execute_result"
    }
   ],
   "source": [
    "import os \n",
    "os.getcwd()"
   ]
  },
  {
   "cell_type": "markdown",
   "id": "b99fa72d-5e92-405d-b1c3-6402914622c0",
   "metadata": {},
   "source": [
    "## Parsing a text file input"
   ]
  },
  {
   "cell_type": "code",
   "execution_count": 10,
   "id": "9ad39bc3-237e-42ce-9ca5-3a2e7054c7d4",
   "metadata": {},
   "outputs": [],
   "source": [
    "with open('../Data/Question_Answer_Dataset_v1.2/'+'S10/'+df['ArticleFile'][0]+'.txt','r') as g:\n",
    "    text = g.read()"
   ]
  },
  {
   "cell_type": "code",
   "execution_count": 11,
   "id": "62655481-d311-4887-94fb-7f2d06762758",
   "metadata": {},
   "outputs": [],
   "source": [
    "nlp = spacy.load('en_core_web_sm')"
   ]
  },
  {
   "cell_type": "code",
   "execution_count": 13,
   "id": "cbb8da61-cb98-4338-846b-1acb3a3c7846",
   "metadata": {},
   "outputs": [],
   "source": [
    "Article = nlp(text)"
   ]
  },
  {
   "cell_type": "code",
   "execution_count": 20,
   "id": "9fa626aa-f0cb-445f-bf73-eafb4163f1e8",
   "metadata": {},
   "outputs": [],
   "source": [
    "def is_token_allowed(token):\n",
    "    '''\n",
    "        Only allow valid tokens which are not stop words\n",
    "        and punctuation symbols.\n",
    "    '''\n",
    "    if (not token or not str(token).strip() or token.is_stop or token.is_punct):\n",
    "        return False\n",
    "    return True\n",
    "\n",
    "def preprocess_token(token):\n",
    "    # Reduce token to its lowercase lemma form\n",
    "    return token.lemma_.strip().lower()\n",
    "\n",
    "complete_filtered_tokens = [preprocess_token(token)\n",
    "    for token in Article if is_token_allowed(token)]"
   ]
  },
  {
   "cell_type": "markdown",
   "id": "d644ee36-37ec-4e8e-b4e0-ffd07b5ba522",
   "metadata": {},
   "source": [
    "We can now do this for every single input and use these tokens as inputs to our model"
   ]
  },
  {
   "cell_type": "code",
   "execution_count": null,
   "id": "319eb645-19ed-4a43-ac8b-e8f37692aaad",
   "metadata": {},
   "outputs": [],
   "source": []
  }
 ],
 "metadata": {
  "kernelspec": {
   "display_name": "Python 3",
   "language": "python",
   "name": "python3"
  },
  "language_info": {
   "codemirror_mode": {
    "name": "ipython",
    "version": 3
   },
   "file_extension": ".py",
   "mimetype": "text/x-python",
   "name": "python",
   "nbconvert_exporter": "python",
   "pygments_lexer": "ipython3",
   "version": "3.8.8"
  }
 },
 "nbformat": 4,
 "nbformat_minor": 5
}
